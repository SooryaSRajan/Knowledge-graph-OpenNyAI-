{
 "cells": [
  {
   "cell_type": "code",
   "execution_count": 2,
   "metadata": {
    "collapsed": true
   },
   "outputs": [],
   "source": [
    "import json\n",
    "from neo4j import GraphDatabase\n",
    "import pandas as pd"
   ]
  },
  {
   "cell_type": "code",
   "execution_count": 3,
   "outputs": [],
   "source": [
    "#Load dataset\n",
    "with open('../building-dataset/json/processed_data_mvd.json', 'r') as file:\n",
    "    data = json.load(file)"
   ],
   "metadata": {
    "collapsed": false,
    "pycharm": {
     "name": "#%%\n"
    }
   }
  },
  {
   "cell_type": "code",
   "execution_count": 84,
   "outputs": [],
   "source": [
    "#use for local database connection\n",
    "driver = GraphDatabase.driver(uri=\"bolt://localhost:7687\", auth=(\"neo4j\", \"password\"))"
   ],
   "metadata": {
    "collapsed": false,
    "pycharm": {
     "name": "#%%\n"
    }
   }
  },
  {
   "cell_type": "code",
   "execution_count": 5,
   "outputs": [],
   "source": [
    "#Convert JSON to DataFrame\n",
    "df = pd.DataFrame(data)"
   ],
   "metadata": {
    "collapsed": false,
    "pycharm": {
     "name": "#%%\n"
    }
   }
  },
  {
   "cell_type": "code",
   "execution_count": 6,
   "outputs": [
    {
     "data": {
      "text/plain": "Index(['id', 'normalized_name', 'start', 'end', 'text', 'labels',\n       'document_id', 'parent_id', 'publishdate', 'title', 'docsource'],\n      dtype='object')"
     },
     "execution_count": 6,
     "metadata": {},
     "output_type": "execute_result"
    }
   ],
   "source": [
    "df.columns"
   ],
   "metadata": {
    "collapsed": false,
    "pycharm": {
     "name": "#%%\n"
    }
   }
  },
  {
   "cell_type": "code",
   "execution_count": 7,
   "outputs": [],
   "source": [
    "#Group documents by ID\n",
    "grouped = df.groupby('document_id')"
   ],
   "metadata": {
    "collapsed": false,
    "pycharm": {
     "name": "#%%\n"
    }
   }
  },
  {
   "cell_type": "code",
   "execution_count": 10,
   "outputs": [],
   "source": [
    "#Method to print iterations progress\n",
    "def printProgressBar (iteration, total, prefix = '', suffix = '', decimals = 1, length = 100, fill = '█', printEnd = \"\\r\"):\n",
    "    \"\"\"\n",
    "    Call in a loop to create terminal progress bar\n",
    "    @params:\n",
    "        iteration   - Required  : current iteration (Int)\n",
    "        total       - Required  : total iterations (Int)\n",
    "        prefix      - Optional  : prefix string (Str)\n",
    "        suffix      - Optional  : suffix string (Str)\n",
    "        decimals    - Optional  : positive number of decimals in percent complete (Int\n",
    "        length      - Optional  : character length of bar (Int)\n",
    "        fill        - Optional  : bar fill character (Str)\n",
    "        printEnd    - Optional  : end character (e.g. \"\\r\", \"\\r\\n\") (Str)\n",
    "    \"\"\"\n",
    "    percent = (\"{0:.\" + str(decimals) + \"f}\").format(100 * (iteration / float(total)))\n",
    "    filledLength = int(length * iteration // total)\n",
    "    bar = fill * filledLength + '-' * (length - filledLength)\n",
    "    print(f'\\r{prefix} |{bar}| {percent}% {suffix}', end = printEnd)\n",
    "    # Print New Line on Complete\n",
    "    if iteration == total:\n",
    "        print()"
   ],
   "metadata": {
    "collapsed": false,
    "pycharm": {
     "name": "#%%\n"
    }
   }
  },
  {
   "cell_type": "code",
   "execution_count": 68,
   "outputs": [],
   "source": [
    "#gets sub-text map\n",
    "#subtextID: text\n",
    "documentIDToSentences = {}\n",
    "#case name : set()\n",
    "\n",
    "for name, group in grouped:\n",
    "    group = group.sample(frac=1)\n",
    "\n",
    "    doc_id = group.iloc[0]['document_id']\n",
    "    documentIDToSentences[doc_id] = set()\n",
    "\n",
    "    for index, row in group.iterrows():\n",
    "        parentId = row['parent_id']\n",
    "        text = row['text']\n",
    "\n",
    "        subSentenceObject = {\n",
    "            \"text\": text,\n",
    "            \"parentId\": parentId\n",
    "        }\n",
    "\n",
    "        documentIDToSentences[doc_id].add(json.dumps(subSentenceObject))\n",
    "\n",
    "documentIDToSentences"
   ],
   "metadata": {
    "collapsed": false,
    "pycharm": {
     "name": "#%%\n"
    }
   }
  },
  {
   "cell_type": "code",
   "execution_count": 115,
   "outputs": [],
   "source": [
    "with driver.session() as session:\n",
    "    session.run(\"MATCH (n) DETACH DELETE n\")"
   ],
   "metadata": {
    "collapsed": false,
    "pycharm": {
     "name": "#%%\n"
    }
   }
  },
  {
   "cell_type": "code",
   "execution_count": 116,
   "outputs": [
    {
     "name": "stdout",
     "output_type": "stream",
     "text": [
      "CREATING CASE NODES: \n",
      "Progress: |███████████████████████████████████████████████| 100.0% Complete\r\n"
     ]
    }
   ],
   "source": [
    "#Add case nodes to database\n",
    "count = 0\n",
    "total = len(grouped)\n",
    "print(\"CREATING CASE NODES: \")\n",
    "printProgressBar(0, total, prefix='Progress:', suffix='Complete', length=total)\n",
    "\n",
    "with driver.session() as session:\n",
    "    for name, group in grouped:\n",
    "        group = group.sample(frac=1)\n",
    "\n",
    "        caseName = group.iloc[0]['title']\n",
    "        caseId = group.iloc[0]['document_id']\n",
    "        session.run(\"CREATE (n:Case {name: $name, type: $type, case_id: $case_id})\", name=caseName, type='CASE',\n",
    "                    case_id=caseId)\n",
    "\n",
    "        count = count + 1\n",
    "        printProgressBar(count, total, prefix='Progress:', suffix='Complete', length=total)"
   ],
   "metadata": {
    "collapsed": false,
    "pycharm": {
     "name": "#%%\n"
    }
   }
  },
  {
   "cell_type": "code",
   "execution_count": 117,
   "outputs": [
    {
     "name": "stdout",
     "output_type": "stream",
     "text": [
      "CONNECTING SUB-TEXT TO CASE NODES\n",
      "Progress: |███████████████████████████████████████████████| 100.0% Complete\r\n"
     ]
    }
   ],
   "source": [
    "#Add case sub-text nodes to database and add relationship between them\n",
    "count = 0\n",
    "total = len(grouped)\n",
    "print(\"CONNECTING SUB-TEXT TO CASE NODES\")\n",
    "printProgressBar(0, total, prefix='Progress:', suffix='Complete', length=total)\n",
    "\n",
    "with driver.session() as session:\n",
    "    for name, group in grouped:\n",
    "        group = group.sample(frac=1)\n",
    "\n",
    "        caseId = group.iloc[0]['document_id']\n",
    "        caseSubTextObjects = documentIDToSentences[caseId]\n",
    "        for subText in caseSubTextObjects:\n",
    "            text = json.loads(subText)['text']\n",
    "            parentId = json.loads(subText)['parentId']\n",
    "\n",
    "            if session.run(\n",
    "                    \"MATCH (n:SubText {name: $parent_id, text: $text, type: $type, parent_id: $parent_id, case_id: $case_id}) RETURN n\",\n",
    "                    text=text,\n",
    "                    type='SUB-TEXT', parent_id=parentId, case_id=caseId).single() is None:\n",
    "\n",
    "                session.run(\"CREATE (n:SubText {name: $text, type: $type, parent_id: $parent_id, case_id: $case_id})\",\n",
    "                            text=text,\n",
    "                            type='SUB-TEXT', parent_id=parentId, case_id=caseId)\n",
    "\n",
    "                session.run(\"MATCH (a:SubText),(b:Case) WHERE a.case_id = $case_id AND b.case_id = \"\n",
    "                            \"$case_id AND b.type = 'CASE' AND a.parent_id = $parent_id \"\n",
    "                            \"MERGE (a)-[ r:SUBTEXT_OF {relationship: $relationship}]->(b)\",\n",
    "                            case_id=caseId,\n",
    "                            relationship=\"Sub-Text with ID: \" + str(parentId) + \", of case with ID \" + str(caseId), parent_id=parentId)\n",
    "\n",
    "        count = count + 1\n",
    "        printProgressBar(count, total, prefix='Progress:', suffix='Complete', length=total)"
   ],
   "metadata": {
    "collapsed": false,
    "pycharm": {
     "name": "#%%\n"
    }
   }
  },
  {
   "cell_type": "code",
   "execution_count": 118,
   "outputs": [
    {
     "name": "stdout",
     "output_type": "stream",
     "text": [
      "CONNECTING END-NODES TO CASE NODES\n",
      "Progress: |███████████████████████████████████████████████| 100.0% Complete\r\n"
     ]
    }
   ],
   "source": [
    "#Add end nodes to the database and connect them to sub-text nodes\n",
    "count = 0\n",
    "total = len(grouped)\n",
    "print(\"CONNECTING END-NODES TO CASE NODES\")\n",
    "printProgressBar(0, total, prefix='Progress:', suffix='Complete', length=total)\n",
    "\n",
    "with driver.session() as session:\n",
    "    for name, group in grouped:\n",
    "        group = group.sample(frac=1)\n",
    "\n",
    "        caseName = group.iloc[0]['title']\n",
    "        caseId = group.iloc[0]['document_id']\n",
    "\n",
    "        for index, row in group.iterrows():\n",
    "            normalizedName = row['normalized_name'].upper()\n",
    "            label = row['labels']\n",
    "            parent_id = row['parent_id']\n",
    "\n",
    "            if session.run(\"MATCH (n:Node {name: $name, type: $type}) RETURN n\", name=normalizedName,\n",
    "                           type=label).single() is None:\n",
    "\n",
    "                session.run(\"CREATE (n:Node {name: $name, type: $type, parent_id: $parent_id})\", name=normalizedName,\n",
    "                            type=label, parent_id=[parent_id])\n",
    "\n",
    "            else:\n",
    "                session.run(\"MATCH (n:Node {name: $name, type: $type}) SET n.parent_id = apoc.coll.union(n.parent_id, \"\n",
    "                            \"$parent_id)\", name=normalizedName,\n",
    "                            type=label, parent_id=[parent_id])\n",
    "\n",
    "            relationship = \"Normalized Name found in subtext: \" + str(parent_id) + \", of case with ID \" + str(caseId)\n",
    "\n",
    "            session.run(\"MATCH (a:Node),(b:SubText) WHERE a.name = $end_node AND b.parent_id = $parent_id\"\n",
    "                        \" AND b.case_id = $case_id\"\n",
    "                        \" AND a.type = $type\"\n",
    "                        \" CREATE (a)-[ r:\" + label + \"_OF\" + \" {relationship: $relationship}]->(b)\",\n",
    "                        end_node=normalizedName, parent_id=parent_id,\n",
    "                        case_id=caseId,\n",
    "                        relationship=relationship,\n",
    "                        type=label\n",
    "                        )\n",
    "\n",
    "        count = count + 1\n",
    "        printProgressBar(count, total, prefix='Progress:', suffix='Complete', length=total)"
   ],
   "metadata": {
    "collapsed": false,
    "pycharm": {
     "name": "#%%\n"
    }
   }
  },
  {
   "cell_type": "code",
   "execution_count": 114,
   "outputs": [],
   "source": [
    "#There can be multiple relationships pointing to the same node as the normalized_text can appear multiple times in the same sentence, those relations are removed.\n",
    "with driver.session() as session:\n",
    "    session.run(\"MATCH (a:Node)-[r]->(b:SubText)\"\n",
    "                \" WITH a, b, type(r) AS rel_type, r.name AS name, COLLECT(r) AS rels, COUNT(*) AS count\"\n",
    "                \" WHERE count > 1\"\n",
    "                \" UNWIND rels[1..] AS duplicate\"\n",
    "                \" DELETE duplicate\")"
   ],
   "metadata": {
    "collapsed": false,
    "pycharm": {
     "name": "#%%\n"
    }
   }
  },
  {
   "cell_type": "code",
   "execution_count": 94,
   "outputs": [],
   "source": [
    "#Use the following query to get specific cases\n",
    "print(\"MATCH (a:Node),(b:SubText),(c:Case) WHERE c.case_id in [ids here] AND b.case_id = c.case_id AND b.parent_id in a.parent_id\")"
   ],
   "metadata": {
    "collapsed": false,
    "pycharm": {
     "name": "#%%\n"
    }
   }
  },
  {
   "cell_type": "code",
   "execution_count": null,
   "outputs": [],
   "source": [],
   "metadata": {
    "collapsed": false,
    "pycharm": {
     "name": "#%%\n"
    }
   }
  }
 ],
 "metadata": {
  "kernelspec": {
   "display_name": "Python 3",
   "language": "python",
   "name": "python3"
  },
  "language_info": {
   "codemirror_mode": {
    "name": "ipython",
    "version": 2
   },
   "file_extension": ".py",
   "mimetype": "text/x-python",
   "name": "python",
   "nbconvert_exporter": "python",
   "pygments_lexer": "ipython2",
   "version": "2.7.6"
  }
 },
 "nbformat": 4,
 "nbformat_minor": 0
}