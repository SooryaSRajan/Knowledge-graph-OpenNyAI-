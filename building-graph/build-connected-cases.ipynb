{
 "cells": [
  {
   "cell_type": "code",
   "execution_count": null,
   "outputs": [],
   "source": [
    "!/Users/sooryasrajan/.local/share/virtualenvs/LightweightBlockCipherClassifier-y2MFm9FQ/bin/python -m pip install matplotlib.pyplot"
   ],
   "metadata": {
    "collapsed": false,
    "pycharm": {
     "name": "#%%\n",
     "is_executing": true
    }
   }
  },
  {
   "cell_type": "code",
   "execution_count": 54,
   "outputs": [],
   "source": [
    "import json\n",
    "from neo4j import GraphDatabase\n",
    "import pandas as pd\n",
    "import networkx as nx"
   ],
   "metadata": {
    "collapsed": false,
    "pycharm": {
     "name": "#%%\n"
    }
   }
  },
  {
   "cell_type": "code",
   "execution_count": 55,
   "outputs": [],
   "source": [
    "with open('processed_data_mvd.json', 'r') as file:\n",
    "    data = json.load(file)"
   ],
   "metadata": {
    "collapsed": false,
    "pycharm": {
     "name": "#%%\n"
    }
   }
  },
  {
   "cell_type": "code",
   "execution_count": 56,
   "outputs": [],
   "source": [
    "driver = GraphDatabase.driver(uri=\"bolt://localhost:7687\", auth=(\"neo4j\", \"password\"))"
   ],
   "metadata": {
    "collapsed": false,
    "pycharm": {
     "name": "#%%\n"
    }
   }
  },
  {
   "cell_type": "code",
   "execution_count": 57,
   "outputs": [],
   "source": [
    "df = pd.DataFrame(data)"
   ],
   "metadata": {
    "collapsed": false,
    "pycharm": {
     "name": "#%%\n"
    }
   }
  },
  {
   "cell_type": "code",
   "execution_count": 58,
   "outputs": [
    {
     "data": {
      "text/plain": "Index(['id', 'normalized_name', 'start', 'end', 'text', 'labels',\n       'document_id', 'parent_id', 'publishdate', 'title', 'docsource'],\n      dtype='object')"
     },
     "execution_count": 58,
     "metadata": {},
     "output_type": "execute_result"
    }
   ],
   "source": [
    "df.columns"
   ],
   "metadata": {
    "collapsed": false,
    "pycharm": {
     "name": "#%%\n"
    }
   }
  },
  {
   "cell_type": "code",
   "execution_count": 59,
   "outputs": [],
   "source": [
    "grouped = df.groupby('document_id')"
   ],
   "metadata": {
    "collapsed": false,
    "pycharm": {
     "name": "#%%\n"
    }
   }
  },
  {
   "cell_type": "code",
   "execution_count": 60,
   "outputs": [],
   "source": [
    "with driver.session() as session:\n",
    "    session.run(\"MATCH (n) DETACH DELETE n\")"
   ],
   "metadata": {
    "collapsed": false,
    "pycharm": {
     "name": "#%%\n"
    }
   }
  },
  {
   "cell_type": "code",
   "execution_count": 61,
   "outputs": [],
   "source": [
    "relationShipToCase = {'ORG': 'ORGANIZATION INVOLVED IN CASE',\n",
    "                      'JUDGE': 'JUDGE OF CASE',\n",
    "                      'WITNESS': 'WITNESS APPEALED IN CASE',\n",
    "                      'LAWYER': 'LAWYER IN CAsE',\n",
    "                      'GPE': 'GPE OF CASE',\n",
    "                      'PRECEDENT': 'PRECEDENT OF CASE',\n",
    "                      'RESPONDENT': 'RESPONDENT OF CASE',\n",
    "                      'CASE_NUMBER': 'CASE NUMBER',\n",
    "                      'PETITIONER': 'PETITIONER OF CASE',\n",
    "                      'COURT': 'OF THIS CASE',\n",
    "                      'OTHER_PERSON': 'OTHER PERSON INVOLVED',\n",
    "                      'DATE': 'DATE OF TRIAL',\n",
    "                      'PROVISION': 'PROVISION OF CASE',\n",
    "                      'STATUTE': 'STATUTE OF CASE'\n",
    "                      }"
   ],
   "metadata": {
    "collapsed": false,
    "pycharm": {
     "name": "#%%\n"
    }
   }
  },
  {
   "cell_type": "code",
   "execution_count": 62,
   "outputs": [
    {
     "name": "stdout",
     "output_type": "stream",
     "text": [
      "0\n",
      "1\n",
      "2\n",
      "3\n",
      "4\n",
      "5\n",
      "6\n",
      "7\n",
      "8\n",
      "9\n",
      "10\n",
      "11\n",
      "12\n",
      "13\n",
      "14\n",
      "15\n",
      "16\n",
      "17\n",
      "18\n",
      "19\n",
      "20\n",
      "21\n",
      "22\n",
      "23\n",
      "24\n",
      "25\n",
      "26\n",
      "27\n",
      "28\n",
      "29\n",
      "30\n",
      "31\n",
      "32\n",
      "33\n",
      "34\n",
      "35\n",
      "36\n",
      "37\n",
      "38\n",
      "39\n",
      "40\n",
      "41\n",
      "42\n",
      "43\n",
      "44\n",
      "45\n",
      "46\n"
     ]
    }
   ],
   "source": [
    "count = 0\n",
    "for name, group in grouped:\n",
    "\n",
    "    group = group.sample(frac=1)\n",
    "\n",
    "    G = nx.Graph()\n",
    "    print(count)\n",
    "    count = count + 1\n",
    "\n",
    "    #continue if not these document_id 8, 25, 43, 49, 17\n",
    "    if group.iloc[0]['document_id'] not in [8, 25, 43, 49, 17]:\n",
    "        continue\n",
    "\n",
    "    for index, row in group.iterrows():\n",
    "        G.add_node(row['normalized_name'], type=row['labels'])\n",
    "\n",
    "    with driver.session() as session:\n",
    "        caseName = group.iloc[0]['title']\n",
    "        caseId = group.iloc[0]['document_id']\n",
    "        session.run(\"CREATE (n:Node {name: $name, type: $type, case_id: $case_id})\", name=caseName, type='CASE',\n",
    "                    case_id=caseId)\n",
    "\n",
    "        for node in G.nodes:\n",
    "            label = G.nodes[node]['type']\n",
    "            caseId = group.iloc[0]['document_id']\n",
    "            session.run(\"CREATE (n:Node {name: $name, type: $type, case_id: $case_id})\", name=node,\n",
    "                        type=label, case_id=caseId)\n",
    "\n",
    "            relationship = relationShipToCase[label]\n",
    "            if relationship is None:\n",
    "                relationship = \"IS IN\"\n",
    "\n",
    "            session.run(\"MATCH (a:Node),(b:Node) WHERE a.name = $from_node AND b.name = $to_node AND b.case_id = \"\n",
    "                        \"$case_id AND b.type = 'CASE' \"\n",
    "                        \" CREATE (a)-[ \"\n",
    "                        \"r:RELATIONSHIP {relationship: $relationship}]->(b)\", from_node=node, to_node=caseName,\n",
    "                        case_id=caseId,\n",
    "                        relationship=relationship)"
   ],
   "metadata": {
    "collapsed": false,
    "pycharm": {
     "name": "#%%\n"
    }
   }
  },
  {
   "cell_type": "code",
   "execution_count": null,
   "outputs": [],
   "source": [],
   "metadata": {
    "collapsed": false,
    "pycharm": {
     "name": "#%%\n"
    }
   }
  }
 ],
 "metadata": {
  "kernelspec": {
   "name": "tensorflow",
   "language": "python",
   "display_name": "Python 3.9 (tensorflow)"
  },
  "language_info": {
   "codemirror_mode": {
    "name": "ipython",
    "version": 2
   },
   "file_extension": ".py",
   "mimetype": "text/x-python",
   "name": "python",
   "nbconvert_exporter": "python",
   "pygments_lexer": "ipython2",
   "version": "2.7.6"
  }
 },
 "nbformat": 4,
 "nbformat_minor": 0
}