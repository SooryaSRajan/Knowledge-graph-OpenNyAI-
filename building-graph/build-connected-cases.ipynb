{
 "cells": [
  {
   "cell_type": "code",
   "execution_count": 36,
   "outputs": [],
   "source": [
    "import json\n",
    "from neo4j import GraphDatabase\n",
    "import pandas as pd\n",
    "import networkx as nx"
   ],
   "metadata": {
    "collapsed": false,
    "pycharm": {
     "name": "#%%\n"
    }
   }
  },
  {
   "cell_type": "code",
   "execution_count": 37,
   "outputs": [],
   "source": [
    "with open('../building-dataset/json/processed_data_mvd.json', 'r') as file:\n",
    "    data = json.load(file)"
   ],
   "metadata": {
    "collapsed": false,
    "pycharm": {
     "name": "#%%\n"
    }
   }
  },
  {
   "cell_type": "code",
   "execution_count": null,
   "outputs": [],
   "source": [
    "driver = GraphDatabase.driver(uri=\"neo4j+s://5bdc6a9f.databases.neo4j.io\", auth=(\"neo4j\", \"jCgUToP_2Qe7UWfqDi8iGj4JCp6k_5I22MZQvflVUVA\"))"
   ],
   "metadata": {
    "collapsed": false,
    "pycharm": {
     "name": "#%%\n"
    }
   }
  },
  {
   "cell_type": "code",
   "execution_count": 74,
   "outputs": [],
   "source": [
    "driver = GraphDatabase.driver(uri=\"bolt://localhost:7687\", auth=(\"neo4j\", \"password\"))"
   ],
   "metadata": {
    "collapsed": false,
    "pycharm": {
     "name": "#%%\n"
    }
   }
  },
  {
   "cell_type": "code",
   "execution_count": 62,
   "outputs": [],
   "source": [
    "df = pd.DataFrame(data)"
   ],
   "metadata": {
    "collapsed": false,
    "pycharm": {
     "name": "#%%\n"
    }
   }
  },
  {
   "cell_type": "code",
   "execution_count": 63,
   "outputs": [
    {
     "data": {
      "text/plain": "Index(['id', 'normalized_name', 'start', 'end', 'text', 'labels',\n       'document_id', 'parent_id', 'publishdate', 'title', 'docsource'],\n      dtype='object')"
     },
     "execution_count": 63,
     "metadata": {},
     "output_type": "execute_result"
    }
   ],
   "source": [
    "df.columns"
   ],
   "metadata": {
    "collapsed": false,
    "pycharm": {
     "name": "#%%\n"
    }
   }
  },
  {
   "cell_type": "code",
   "execution_count": 64,
   "outputs": [],
   "source": [
    "grouped = df.groupby('document_id')"
   ],
   "metadata": {
    "collapsed": false,
    "pycharm": {
     "name": "#%%\n"
    }
   }
  },
  {
   "cell_type": "code",
   "execution_count": 65,
   "outputs": [],
   "source": [
    "relationShipToCase = {'ORG': 'ORGANIZATION INVOLVED IN CASE',\n",
    "                      'JUDGE': 'JUDGE OF CASE',\n",
    "                      'WITNESS': 'WITNESS APPEALED IN CASE',\n",
    "                      'LAWYER': 'LAWYER IN CAsE',\n",
    "                      'GPE': 'GPE OF CASE',\n",
    "                      'PRECEDENT': 'PRECEDENT OF CASE',\n",
    "                      'RESPONDENT': 'RESPONDENT OF CASE',\n",
    "                      'CASE_NUMBER': 'CASE NUMBER',\n",
    "                      'PETITIONER': 'PETITIONER OF CASE',\n",
    "                      'COURT': 'COURT OF CASE',\n",
    "                      'OTHER_PERSON': 'OTHER PERSON INVOLVED',\n",
    "                      'DATE': 'DATE OF TRIAL',\n",
    "                      'PROVISION': 'PROVISION OF CASE',\n",
    "                      'STATUTE': 'STATUTE OF CASE'\n",
    "                      }"
   ],
   "metadata": {
    "collapsed": false,
    "pycharm": {
     "name": "#%%\n"
    }
   }
  },
  {
   "cell_type": "code",
   "execution_count": 66,
   "outputs": [],
   "source": [
    "# Print iterations progress\n",
    "def printProgressBar (iteration, total, prefix = '', suffix = '', decimals = 1, length = 100, fill = '█', printEnd = \"\\r\"):\n",
    "    \"\"\"\n",
    "    Call in a loop to create terminal progress bar\n",
    "    @params:\n",
    "        iteration   - Required  : current iteration (Int)\n",
    "        total       - Required  : total iterations (Int)\n",
    "        prefix      - Optional  : prefix string (Str)\n",
    "        suffix      - Optional  : suffix string (Str)\n",
    "        decimals    - Optional  : positive number of decimals in percent complete (Int)\n",
    "        length      - Optional  : character length of bar (Int)\n",
    "        fill        - Optional  : bar fill character (Str)\n",
    "        printEnd    - Optional  : end character (e.g. \"\\r\", \"\\r\\n\") (Str)\n",
    "    \"\"\"\n",
    "    percent = (\"{0:.\" + str(decimals) + \"f}\").format(100 * (iteration / float(total)))\n",
    "    filledLength = int(length * iteration // total)\n",
    "    bar = fill * filledLength + '-' * (length - filledLength)\n",
    "    print(f'\\r{prefix} |{bar}| {percent}% {suffix}', end = printEnd)\n",
    "    # Print New Line on Complete\n",
    "    if iteration == total:\n",
    "        print()"
   ],
   "metadata": {
    "collapsed": false,
    "pycharm": {
     "name": "#%%\n"
    }
   }
  },
  {
   "cell_type": "code",
   "execution_count": 67,
   "outputs": [],
   "source": [
    "with driver.session() as session:\n",
    "    session.run(\"MATCH (n) DETACH DELETE n\")"
   ],
   "metadata": {
    "collapsed": false,
    "pycharm": {
     "name": "#%%\n"
    }
   }
  },
  {
   "cell_type": "code",
   "execution_count": 68,
   "outputs": [
    {
     "name": "stdout",
     "output_type": "stream",
     "text": [
      "Progress: |███████████████████████████████████████████████| 100.0% Complete\r\n"
     ]
    }
   ],
   "source": [
    "count = 0\n",
    "total = len(grouped)\n",
    "printProgressBar(0, total, prefix = 'Progress:', suffix = 'Complete', length = total)\n",
    "\n",
    "for name, group in grouped:\n",
    "\n",
    "    group = group.sample(frac=1)\n",
    "\n",
    "    G = nx.Graph()\n",
    "    count = count + 1\n",
    "    printProgressBar(count, total, prefix = 'Progress:', suffix = 'Complete', length = total)\n",
    "\n",
    "\n",
    "    for index, row in group.iterrows():\n",
    "        normalizedName = row['normalized_name'].upper()\n",
    "        G.add_node(normalizedName, type=row['labels'])\n",
    "\n",
    "    with driver.session() as session:\n",
    "        caseName = group.iloc[0]['title']\n",
    "        caseId = group.iloc[0]['document_id']\n",
    "        session.run(\"CREATE (n:Case {name: $name, type: $type, case_id: $case_id})\", name=caseName, type='CASE',\n",
    "                    case_id=caseId)\n",
    "\n",
    "        for node in G.nodes:\n",
    "            label = G.nodes[node]['type']\n",
    "            caseId = group.iloc[0]['document_id']\n",
    "            session.run(\"CREATE (n:Node {name: $name, type: $type, case_id: $case_id})\", name=node,\n",
    "                        type=label, case_id=caseId)\n",
    "\n",
    "            relationship = relationShipToCase[label]\n",
    "            if relationship is None:\n",
    "                relationship = \"IS IN\"\n",
    "\n",
    "            session.run(\"MATCH (a:Node),(b:Case) WHERE a.name = $from_node AND b.name = $to_node AND b.case_id = \"\n",
    "                        \"$case_id AND b.type = 'CASE' \"\n",
    "                        \" CREATE (a)-[ \"\n",
    "                        \"r:RELATIONSHIP {relationship: $relationship}]->(b)\", from_node=node, to_node=caseName,\n",
    "                        case_id=caseId,\n",
    "                        relationship=relationship)"
   ],
   "metadata": {
    "collapsed": false,
    "pycharm": {
     "name": "#%%\n"
    }
   }
  },
  {
   "cell_type": "code",
   "execution_count": 75,
   "outputs": [],
   "source": [
    "#deletes duplicate nodes and merges them together retaining all relations\n",
    "with driver.session() as session:\n",
    "        session.run(\"MATCH (n:Node) WITH n.name AS name, COLLECT(n) AS nodes, COUNT(*) AS count \"\n",
    "            \"WHERE count > 1 \"\n",
    "            \"CALL apoc.refactor.mergeNodes(nodes) YIELD node \"\n",
    "            \"RETURN node\")"
   ],
   "metadata": {
    "collapsed": false,
    "pycharm": {
     "name": "#%%\n"
    }
   }
  },
  {
   "cell_type": "code",
   "execution_count": 76,
   "outputs": [],
   "source": [
    "#Deletes duplicate relationships and merges them together\n",
    "with driver.session() as session:\n",
    "    session.run(\"MATCH (n:Node)-[r:RELATIONSHIP]->(c:Case) WITH n, c, COLLECT(r) AS rels, COUNT(*) AS count \"\n",
    "                \"WHERE count > 1 \"\n",
    "                \"CALL apoc.refactor.mergeRelationships(rels) YIELD rel \"\n",
    "                \"RETURN rel\")"
   ],
   "metadata": {
    "collapsed": false,
    "pycharm": {
     "name": "#%%\n"
    }
   }
  }
 ],
 "metadata": {
  "kernelspec": {
   "name": "tensorflow",
   "language": "python",
   "display_name": "Python 3.9 (tensorflow)"
  },
  "language_info": {
   "codemirror_mode": {
    "name": "ipython",
    "version": 2
   },
   "file_extension": ".py",
   "mimetype": "text/x-python",
   "name": "python",
   "nbconvert_exporter": "python",
   "pygments_lexer": "ipython2",
   "version": "2.7.6"
  }
 },
 "nbformat": 4,
 "nbformat_minor": 0
}