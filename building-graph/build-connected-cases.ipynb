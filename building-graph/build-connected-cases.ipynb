{
 "cells": [
  {
   "cell_type": "code",
   "execution_count": 109,
   "outputs": [],
   "source": [
    "import json\n",
    "from neo4j import GraphDatabase\n",
    "import pandas as pd\n",
    "import networkx as nx"
   ],
   "metadata": {
    "collapsed": false,
    "pycharm": {
     "name": "#%%\n"
    }
   }
  },
  {
   "cell_type": "code",
   "execution_count": 1,
   "outputs": [
    {
     "ename": "NameError",
     "evalue": "name 'json' is not defined",
     "output_type": "error",
     "traceback": [
      "\u001B[0;31m---------------------------------------------------------------------------\u001B[0m",
      "\u001B[0;31mNameError\u001B[0m                                 Traceback (most recent call last)",
      "Input \u001B[0;32mIn [1]\u001B[0m, in \u001B[0;36m<cell line: 1>\u001B[0;34m()\u001B[0m\n\u001B[1;32m      1\u001B[0m \u001B[38;5;28;01mwith\u001B[39;00m \u001B[38;5;28mopen\u001B[39m(\u001B[38;5;124m'\u001B[39m\u001B[38;5;124m../building-dataset/json/processed_data_mvd.json\u001B[39m\u001B[38;5;124m'\u001B[39m, \u001B[38;5;124m'\u001B[39m\u001B[38;5;124mr\u001B[39m\u001B[38;5;124m'\u001B[39m) \u001B[38;5;28;01mas\u001B[39;00m file:\n\u001B[0;32m----> 2\u001B[0m     data \u001B[38;5;241m=\u001B[39m \u001B[43mjson\u001B[49m\u001B[38;5;241m.\u001B[39mload(file)\n",
      "\u001B[0;31mNameError\u001B[0m: name 'json' is not defined"
     ]
    }
   ],
   "source": [
    "with open('../building-dataset/json/processed_data_mvd.json', 'r') as file:\n",
    "    data = json.load(file)"
   ],
   "metadata": {
    "collapsed": false,
    "pycharm": {
     "name": "#%%\n"
    }
   }
  },
  {
   "cell_type": "code",
   "execution_count": 130,
   "outputs": [],
   "source": [
    "#Use for global database connection\n",
    "driver = GraphDatabase.driver(uri=\"neo4j+s://5bdc6a9f.databases.neo4j.io\", auth=(\"neo4j\", \"jCgUToP_2Qe7UWfqDi8iGj4JCp6k_5I22MZQvflVUVA\"))"
   ],
   "metadata": {
    "collapsed": false,
    "pycharm": {
     "name": "#%%\n"
    }
   }
  },
  {
   "cell_type": "code",
   "execution_count": 112,
   "outputs": [],
   "source": [
    "#use for local database connection\n",
    "driver = GraphDatabase.driver(uri=\"bolt://localhost:7687\", auth=(\"neo4j\", \"password\"))"
   ],
   "metadata": {
    "collapsed": false,
    "pycharm": {
     "name": "#%%\n"
    }
   }
  },
  {
   "cell_type": "code",
   "execution_count": 113,
   "outputs": [],
   "source": [
    "df = pd.DataFrame(data)"
   ],
   "metadata": {
    "collapsed": false,
    "pycharm": {
     "name": "#%%\n"
    }
   }
  },
  {
   "cell_type": "code",
   "execution_count": 115,
   "outputs": [],
   "source": [
    "grouped = df.groupby('document_id')"
   ],
   "metadata": {
    "collapsed": false,
    "pycharm": {
     "name": "#%%\n"
    }
   }
  },
  {
   "cell_type": "code",
   "execution_count": 114,
   "outputs": [
    {
     "data": {
      "text/plain": "Index(['id', 'normalized_name', 'start', 'end', 'text', 'labels',\n       'document_id', 'parent_id', 'publishdate', 'title', 'docsource'],\n      dtype='object')"
     },
     "execution_count": 114,
     "metadata": {},
     "output_type": "execute_result"
    }
   ],
   "source": [
    "df.columns"
   ],
   "metadata": {
    "collapsed": false,
    "pycharm": {
     "name": "#%%\n"
    }
   }
  },
  {
   "cell_type": "code",
   "execution_count": 116,
   "outputs": [],
   "source": [
    "relationShipToCase = {'ORG': 'ORGANIZATION INVOLVED IN CASE',\n",
    "                      'JUDGE': 'JUDGE OF CASE',\n",
    "                      'WITNESS': 'WITNESS APPEALED IN CASE',\n",
    "                      'LAWYER': 'LAWYER IN CAsE',\n",
    "                      'GPE': 'GPE OF CASE',\n",
    "                      'PRECEDENT': 'PRECEDENT OF CASE',\n",
    "                      'RESPONDENT': 'RESPONDENT OF CASE',\n",
    "                      'CASE_NUMBER': 'CASE NUMBER',\n",
    "                      'PETITIONER': 'PETITIONER OF CASE',\n",
    "                      'COURT': 'COURT OF CASE',\n",
    "                      'OTHER_PERSON': 'OTHER PERSON INVOLVED',\n",
    "                      'DATE': 'DATE OF TRIAL',\n",
    "                      'PROVISION': 'PROVISION OF CASE',\n",
    "                      'STATUTE': 'STATUTE OF CASE'\n",
    "                      }"
   ],
   "metadata": {
    "collapsed": false,
    "pycharm": {
     "name": "#%%\n"
    }
   }
  },
  {
   "cell_type": "code",
   "execution_count": 117,
   "outputs": [],
   "source": [
    "# Print iterations progress\n",
    "def printProgressBar (iteration, total, prefix = '', suffix = '', decimals = 1, length = 100, fill = '█', printEnd = \"\\r\"):\n",
    "    \"\"\"\n",
    "    Call in a loop to create terminal progress bar\n",
    "    @params:\n",
    "        iteration   - Required  : current iteration (Int)\n",
    "        total       - Required  : total iterations (Int)\n",
    "        prefix      - Optional  : prefix string (Str)\n",
    "        suffix      - Optional  : suffix string (Str)\n",
    "        decimals    - Optional  : positive number of decimals in percent complete (Int)\n",
    "        length      - Optional  : character length of bar (Int)\n",
    "        fill        - Optional  : bar fill character (Str)\n",
    "        printEnd    - Optional  : end character (e.g. \"\\r\", \"\\r\\n\") (Str)\n",
    "    \"\"\"\n",
    "    percent = (\"{0:.\" + str(decimals) + \"f}\").format(100 * (iteration / float(total)))\n",
    "    filledLength = int(length * iteration // total)\n",
    "    bar = fill * filledLength + '-' * (length - filledLength)\n",
    "    print(f'\\r{prefix} |{bar}| {percent}% {suffix}', end = printEnd)\n",
    "    # Print New Line on Complete\n",
    "    if iteration == total:\n",
    "        print()"
   ],
   "metadata": {
    "collapsed": false,
    "pycharm": {
     "name": "#%%\n"
    }
   }
  },
  {
   "cell_type": "code",
   "execution_count": 131,
   "outputs": [],
   "source": [
    "with driver.session() as session:\n",
    "    session.run(\"MATCH (n) DETACH DELETE n\")"
   ],
   "metadata": {
    "collapsed": false,
    "pycharm": {
     "name": "#%%\n"
    }
   }
  },
  {
   "cell_type": "code",
   "source": [],
   "metadata": {
    "collapsed": false,
    "pycharm": {
     "name": "#%%\n"
    }
   },
   "execution_count": null,
   "outputs": []
  },
  {
   "cell_type": "code",
   "execution_count": 132,
   "outputs": [
    {
     "name": "stdout",
     "output_type": "stream",
     "text": [
      "Progress: |███████████████████████████████████████████████| 100.0% Complete\r\n"
     ]
    }
   ],
   "source": [
    "count = 0\n",
    "total = len(grouped)\n",
    "printProgressBar(0, total, prefix='Progress:', suffix='Complete', length=total)\n",
    "\n",
    "for name, group in grouped:\n",
    "\n",
    "    group = group.sample(frac=1)\n",
    "\n",
    "    G = nx.Graph()\n",
    "    count = count + 1\n",
    "    printProgressBar(count, total, prefix='Progress:', suffix='Complete', length=total)\n",
    "\n",
    "    for index, row in group.iterrows():\n",
    "        normalizedName = row['normalized_name'].upper()\n",
    "        G.add_node(normalizedName, type=row['labels'])\n",
    "\n",
    "    with driver.session() as session:\n",
    "        caseName = group.iloc[0]['title']\n",
    "        caseId = group.iloc[0]['document_id']\n",
    "        session.run(\"CREATE (n:Case {name: $name, type: $type, case_id: $case_id})\", name=caseName, type='CASE',\n",
    "                    case_id=caseId)\n",
    "\n",
    "        for node in G.nodes:\n",
    "            label = G.nodes[node]['type']\n",
    "            caseId = group.iloc[0]['document_id']\n",
    "\n",
    "            if session.run(\"MATCH (n:Node {name: $name, type: $type}) RETURN n\", name=node,\n",
    "                           type=label).single() is None:\n",
    "\n",
    "                session.run(\"CREATE (n:Node {name: $name, type: $type, case_id: $case_id})\", name=node,\n",
    "                            type=label, case_id=[caseId])\n",
    "\n",
    "            else:\n",
    "                session.run(\"MATCH (n:Node {name: $name, type: $type}) SET n.case_id = apoc.coll.union(n.case_id, \"\n",
    "                            \"$case_id)\", name=node,\n",
    "                            type=label, case_id=[caseId])\n",
    "\n",
    "            relationship = relationShipToCase[label]\n",
    "            if relationship is None:\n",
    "                relationship = \"IS IN\"\n",
    "\n",
    "            session.run(\"MATCH (a:Node),(b:Case) WHERE a.name = $from_node AND b.name = $to_node AND b.case_id = \"\n",
    "                        \"$case_id AND b.type = 'CASE' \"\n",
    "                        \" CREATE (a)-[ r:RELATIONSHIP {relationship: $relationship}]->(b)\", from_node=node, to_node=caseName,\n",
    "                        case_id=caseId,\n",
    "                        relationship=relationship)"
   ],
   "metadata": {
    "collapsed": false,
    "pycharm": {
     "name": "#%%\n"
    }
   }
  }
 ],
 "metadata": {
  "kernelspec": {
   "name": "tensorflow",
   "language": "python",
   "display_name": "Python 3.9 (tensorflow)"
  },
  "language_info": {
   "codemirror_mode": {
    "name": "ipython",
    "version": 2
   },
   "file_extension": ".py",
   "mimetype": "text/x-python",
   "name": "python",
   "nbconvert_exporter": "python",
   "pygments_lexer": "ipython2",
   "version": "2.7.6"
  }
 },
 "nbformat": 4,
 "nbformat_minor": 0
}