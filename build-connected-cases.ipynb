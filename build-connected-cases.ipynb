{
 "cells": [
  {
   "cell_type": "code",
   "execution_count": 16,
   "outputs": [
    {
     "name": "stdout",
     "output_type": "stream",
     "text": [
      "\u001B[31mERROR: Could not find a version that satisfies the requirement matplotlib.pyplot (from versions: none)\u001B[0m\u001B[31m\r\n",
      "\u001B[0m\u001B[31mERROR: No matching distribution found for matplotlib.pyplot\u001B[0m\u001B[31m\r\n",
      "\u001B[0m\u001B[33mWARNING: You are using pip version 22.0.4; however, version 23.0 is available.\r\n",
      "You should consider upgrading via the '/Users/sooryasrajan/.local/share/virtualenvs/LightweightBlockCipherClassifier-y2MFm9FQ/bin/python -m pip install --upgrade pip' command.\u001B[0m\u001B[33m\r\n",
      "\u001B[0m"
     ]
    }
   ],
   "source": [
    "!/Users/sooryasrajan/.local/share/virtualenvs/LightweightBlockCipherClassifier-y2MFm9FQ/bin/python -m pip install matplotlib.pyplot"
   ],
   "metadata": {
    "collapsed": false,
    "pycharm": {
     "name": "#%%\n"
    }
   }
  },
  {
   "cell_type": "code",
   "execution_count": 15,
   "outputs": [],
   "source": [
    "import json\n",
    "from neo4j import GraphDatabase\n",
    "import pandas as pd\n",
    "import networkx as nx"
   ],
   "metadata": {
    "collapsed": false,
    "pycharm": {
     "name": "#%%\n"
    }
   }
  },
  {
   "cell_type": "code",
   "execution_count": 3,
   "outputs": [],
   "source": [
    "with open('processed_data_mvd.json', 'r') as file:\n",
    "    data = json.load(file)"
   ],
   "metadata": {
    "collapsed": false,
    "pycharm": {
     "name": "#%%\n"
    }
   }
  },
  {
   "cell_type": "code",
   "execution_count": 5,
   "outputs": [],
   "source": [
    "driver = GraphDatabase.driver(uri=\"bolt://localhost:7687\", auth=(\"neo4j\", \"password\"))"
   ],
   "metadata": {
    "collapsed": false,
    "pycharm": {
     "name": "#%%\n"
    }
   }
  },
  {
   "cell_type": "code",
   "execution_count": 6,
   "outputs": [],
   "source": [
    "df = pd.DataFrame(data)"
   ],
   "metadata": {
    "collapsed": false,
    "pycharm": {
     "name": "#%%\n"
    }
   }
  },
  {
   "cell_type": "code",
   "execution_count": 7,
   "outputs": [
    {
     "data": {
      "text/plain": "Index(['id', 'normalized_name', 'start', 'end', 'text', 'labels',\n       'document_id', 'parent_id', 'publishdate', 'title', 'docsource'],\n      dtype='object')"
     },
     "execution_count": 7,
     "metadata": {},
     "output_type": "execute_result"
    }
   ],
   "source": [
    "df.columns"
   ],
   "metadata": {
    "collapsed": false,
    "pycharm": {
     "name": "#%%\n"
    }
   }
  },
  {
   "cell_type": "code",
   "execution_count": 19,
   "outputs": [],
   "source": [
    "grouped = df.groupby('document_id')"
   ],
   "metadata": {
    "collapsed": false,
    "pycharm": {
     "name": "#%%\n"
    }
   }
  },
  {
   "cell_type": "code",
   "execution_count": 52,
   "outputs": [],
   "source": [
    "with driver.session() as session:\n",
    "    session.run(\"MATCH (n) DETACH DELETE n\")"
   ],
   "metadata": {
    "collapsed": false,
    "pycharm": {
     "name": "#%%\n"
    }
   }
  },
  {
   "cell_type": "code",
   "execution_count": 53,
   "outputs": [
    {
     "name": "stdout",
     "output_type": "stream",
     "text": [
      "2\n"
     ]
    }
   ],
   "source": [
    "count = 0\n",
    "# iterate grouped pandas\n",
    "for name, group in grouped:\n",
    "    # shuffle data\n",
    "    # shuffle panda frame\n",
    "    group = group.sample(frac=1)\n",
    "    if count == 0 or count == 1:\n",
    "        count += 1\n",
    "        continue\n",
    "    if count == 3:\n",
    "        break\n",
    "\n",
    "    # create a graph for each case\n",
    "    G = nx.Graph()\n",
    "    # add nodes to graph\n",
    "    for index, row in group.iterrows():\n",
    "        G.add_node(row['normalized_name'], type=row['labels'])\n",
    "    # add edges to graph\n",
    "    for i in range(len(group) - 1):\n",
    "        current = group.iloc[i]['normalized_name']\n",
    "        next_node = group.iloc[i + 1]['normalized_name']\n",
    "        # add relationship label\n",
    "        relationship = group.iloc[i]['labels'] + '-' + group.iloc[i + 1]['labels']\n",
    "        G.add_edge(current, next_node, relationship=relationship)\n",
    "    # add nodes to neo4j\n",
    "    with driver.session() as session:\n",
    "        caseName = group.iloc[0]['docsource']\n",
    "        # make case node color orange\n",
    "        # create a central node for each case with the case name and make it orange\n",
    "        session.run(\"CREATE (n:Node {name: $name, type: $type})\", name=caseName, type='CASE')\n",
    "\n",
    "        # add nodes to neo4j\n",
    "        caseCount = 0\n",
    "        for node in G.nodes:\n",
    "            print(node)\n",
    "            caseCount = caseCount + 1\n",
    "            session.run(\"CREATE (n:Node {name: $name, type: $type})\", name=node, type=G.nodes[node]['type'])\n",
    "\n",
    "        #connect all nodes to the above created node\n",
    "        for node in G.nodes:\n",
    "            session.run(\"MATCH (a:Node),(b:Node) WHERE a.name = $from_node AND b.name = $to_node CREATE (a)-[\"\n",
    "                        \"r:RELATIONSHIP {relationship: $relationship}]->(b)\", from_node=node, to_node=caseName,\n",
    "                        relationship='CASE')\n",
    "\n",
    "    count += 1"
   ],
   "metadata": {
    "collapsed": false,
    "pycharm": {
     "name": "#%%\n"
    }
   }
  },
  {
   "cell_type": "code",
   "execution_count": null,
   "outputs": [],
   "source": [],
   "metadata": {
    "collapsed": false,
    "pycharm": {
     "name": "#%%\n"
    }
   }
  }
 ],
 "metadata": {
  "kernelspec": {
   "name": "tensorflow",
   "language": "python",
   "display_name": "Python 3.9 (tensorflow)"
  },
  "language_info": {
   "codemirror_mode": {
    "name": "ipython",
    "version": 2
   },
   "file_extension": ".py",
   "mimetype": "text/x-python",
   "name": "python",
   "nbconvert_exporter": "python",
   "pygments_lexer": "ipython2",
   "version": "2.7.6"
  }
 },
 "nbformat": 4,
 "nbformat_minor": 0
}