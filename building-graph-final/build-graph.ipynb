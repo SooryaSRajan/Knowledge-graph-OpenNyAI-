{
 "cells": [
  {
   "cell_type": "code",
   "execution_count": 1,
   "metadata": {
    "collapsed": true
   },
   "outputs": [],
   "source": [
    "import json\n",
    "from neo4j import GraphDatabase\n",
    "import pandas as pd"
   ]
  },
  {
   "cell_type": "code",
   "execution_count": 2,
   "outputs": [],
   "source": [
    "#Load dataset\n",
    "with open('annotated-data.json', 'r') as file:\n",
    "    data = json.load(file)"
   ],
   "metadata": {
    "collapsed": false,
    "pycharm": {
     "name": "#%%\n"
    }
   }
  },
  {
   "cell_type": "code",
   "execution_count": 29,
   "outputs": [],
   "source": [
    "#Use for global database connection\n",
    "driver = GraphDatabase.driver(uri=\"bolt://3.91.134.249:7687\", auth=(\"neo4j\", \"escapes-certification-array\"))"
   ],
   "metadata": {
    "collapsed": false,
    "pycharm": {
     "name": "#%%\n"
    }
   }
  },
  {
   "cell_type": "code",
   "execution_count": 3,
   "outputs": [],
   "source": [
    "#use for local database connection\n",
    "driver = GraphDatabase.driver(uri=\"bolt://localhost:7687\", auth=(\"neo4j\", \"password\"))"
   ],
   "metadata": {
    "collapsed": false,
    "pycharm": {
     "name": "#%%\n"
    }
   }
  },
  {
   "cell_type": "code",
   "execution_count": 4,
   "outputs": [],
   "source": [
    "#Convert JSON to DataFrame\n",
    "df = pd.DataFrame(data)"
   ],
   "metadata": {
    "collapsed": false,
    "pycharm": {
     "name": "#%%\n"
    }
   }
  },
  {
   "cell_type": "markdown",
   "source": [],
   "metadata": {
    "collapsed": false
   }
  },
  {
   "cell_type": "code",
   "execution_count": 12,
   "outputs": [
    {
     "data": {
      "text/plain": "                                                    id  \\\n0    9773679d174baecd8dea3a3d04ad2eb06f8d66b68cd9a6...   \n1    f97f6956004592a7f9b987c414c7180db06015860cf377...   \n2    fa839ebdad024476ac233e42e9bbe0c377c27f4031f1dd...   \n3    f242dda5ce530398b22e510ebeca07ef331e5f95313b08...   \n4    28331be12dc40bfb74b59f77ba1b30059703cdf546e918...   \n..                                                 ...   \n328  80f1e360d5e2442e74a7ca96962cc14799070a2dc91bd5...   \n329  ab377c9809b20910230057a7902cefd1e017416f66584d...   \n330  fc71c49e54b831d945dd59161f290f398144fb4f50bc89...   \n331  f152ce410cb653bb95aab27d589511083a032136198250...   \n332  a49e4419ee06b9097a820618f77835c5183c482fb3460b...   \n\n                                                  data  \\\n0    {'text': 'R.V.Raveendran, J.       The claiman...   \n1    {'text': 'J U D G M E N T       W I T HSLP (C)...   \n2    {'text': 'J U D G M E N T  P.K. BALASUBRAMANYA...   \n3    {'text': 'L.....I.........T.......T.......T......   \n4    {'text': '    R.M. Lodha,J.            A two-J...   \n..                                                 ...   \n328  {'text': 'Judgment Varghese Kalliath, J.1. Thi...   \n329  {'text': 'Judgment  B.S. Kapadia, J.1. The pre...   \n330  {'text': 'Judgment  K.M. Jatarajan, J.1. These...   \n331  {'text': 'Judgment  A.M. Ahkadi, J.  1. Mr. H....   \n332  {'text': 'Judgment     Bopanna, J.  1.  This a...   \n\n                                           annotations       tid  \\\n0    [{'id': '76b3f31eb53c4fa08ba719e2aac15329', 's...    837924   \n1    [{'id': 'dbc821fbf4e7444f95ad02fac5cd9828', 's...   1827019   \n2    [{'id': 'daf47aad24f44ed0828f96a88442b463', 's...   1964308   \n3    [{'id': 'd46f0be64a014504b6ebb28515f7eeb6', 's...    484625   \n4    [{'id': 'b1b630bb34334ddcbe8c364f0252041c', 's...  86908489   \n..                                                 ...       ...   \n328  [{'id': '6cbb13dbb7f84912968596510710193f', 's...    125801   \n329  [{'id': '1da1f4643bdc46489a9a2177934aebf0', 's...    437556   \n330  [{'id': 'a5e2bf151b7641689539bcb23fbe3b6d', 's...    791009   \n331  [{'id': 'ef3726f11cf94394a184ed24e8f1530a', 's...    934048   \n332  [{'id': '2dee58286a944c228283abe9c9553752', 's...   1150997   \n\n                                                 title  \\\n0    Sarla Verma & Ors vs Delhi Transport Corp.& An...   \n1    National Insurance Co. Ltd vs Swaran Singh & O...   \n2    The Oriental Insurance Company ... vs Meena Va...   \n3    Smt. Kaushnuma Begum And Ors vs The New India ...   \n4    Reshma Kumari & Ors vs Madan Mohan & Anr on 2 ...   \n..                                                 ...   \n328  Motor And General Finance (India) ... vs Mary ...   \n329  Manohar Jamatmal Sindhi And Anr. vs Ranguba An...   \n330  Principal, Tamil Nadu ... vs A. Saraswathi And...   \n331  Prataprai Arjandas Dhameja And ... vs Bhupatsi...   \n332  The General Manager, Karnataka ... vs Peerappa...   \n\n                                                   doc  \n0    R.V.RAVEENDRAN, J.      The claimants in a mot...  \n1    J U D G M E N T      W I T HSLP (C) 10017/03, ...  \n2    J U D G M E N T P.K. BALASUBRAMANYAN, J.1.One ...  \n3    L.....I.........T.......T.......T.......T........  \n4        R.M. LODHA,J.            A two-Judge Bench...  \n..                                                 ...  \n328  JUDGMENT Varghese Kalliath, J.1. This is a phe...  \n329  JUDGMENT B.S. Kapadia, J.1. The present appeal...  \n330  JUDGMENT K.M. Jatarajan, J.1. These three civi...  \n331  JUDGMENT A.M. Ahkadi, J.  1. Mr. H. P. Shroff ...  \n332  JUDGMENT    Bopanna, J.  1.  This appeal arise...  \n\n[333 rows x 6 columns]",
      "text/html": "<div>\n<style scoped>\n    .dataframe tbody tr th:only-of-type {\n        vertical-align: middle;\n    }\n\n    .dataframe tbody tr th {\n        vertical-align: top;\n    }\n\n    .dataframe thead th {\n        text-align: right;\n    }\n</style>\n<table border=\"1\" class=\"dataframe\">\n  <thead>\n    <tr style=\"text-align: right;\">\n      <th></th>\n      <th>id</th>\n      <th>data</th>\n      <th>annotations</th>\n      <th>tid</th>\n      <th>title</th>\n      <th>doc</th>\n    </tr>\n  </thead>\n  <tbody>\n    <tr>\n      <th>0</th>\n      <td>9773679d174baecd8dea3a3d04ad2eb06f8d66b68cd9a6...</td>\n      <td>{'text': 'R.V.Raveendran, J.       The claiman...</td>\n      <td>[{'id': '76b3f31eb53c4fa08ba719e2aac15329', 's...</td>\n      <td>837924</td>\n      <td>Sarla Verma &amp; Ors vs Delhi Transport Corp.&amp; An...</td>\n      <td>R.V.RAVEENDRAN, J.      The claimants in a mot...</td>\n    </tr>\n    <tr>\n      <th>1</th>\n      <td>f97f6956004592a7f9b987c414c7180db06015860cf377...</td>\n      <td>{'text': 'J U D G M E N T       W I T HSLP (C)...</td>\n      <td>[{'id': 'dbc821fbf4e7444f95ad02fac5cd9828', 's...</td>\n      <td>1827019</td>\n      <td>National Insurance Co. Ltd vs Swaran Singh &amp; O...</td>\n      <td>J U D G M E N T      W I T HSLP (C) 10017/03, ...</td>\n    </tr>\n    <tr>\n      <th>2</th>\n      <td>fa839ebdad024476ac233e42e9bbe0c377c27f4031f1dd...</td>\n      <td>{'text': 'J U D G M E N T  P.K. BALASUBRAMANYA...</td>\n      <td>[{'id': 'daf47aad24f44ed0828f96a88442b463', 's...</td>\n      <td>1964308</td>\n      <td>The Oriental Insurance Company ... vs Meena Va...</td>\n      <td>J U D G M E N T P.K. BALASUBRAMANYAN, J.1.One ...</td>\n    </tr>\n    <tr>\n      <th>3</th>\n      <td>f242dda5ce530398b22e510ebeca07ef331e5f95313b08...</td>\n      <td>{'text': 'L.....I.........T.......T.......T......</td>\n      <td>[{'id': 'd46f0be64a014504b6ebb28515f7eeb6', 's...</td>\n      <td>484625</td>\n      <td>Smt. Kaushnuma Begum And Ors vs The New India ...</td>\n      <td>L.....I.........T.......T.......T.......T........</td>\n    </tr>\n    <tr>\n      <th>4</th>\n      <td>28331be12dc40bfb74b59f77ba1b30059703cdf546e918...</td>\n      <td>{'text': '    R.M. Lodha,J.            A two-J...</td>\n      <td>[{'id': 'b1b630bb34334ddcbe8c364f0252041c', 's...</td>\n      <td>86908489</td>\n      <td>Reshma Kumari &amp; Ors vs Madan Mohan &amp; Anr on 2 ...</td>\n      <td>R.M. LODHA,J.            A two-Judge Bench...</td>\n    </tr>\n    <tr>\n      <th>...</th>\n      <td>...</td>\n      <td>...</td>\n      <td>...</td>\n      <td>...</td>\n      <td>...</td>\n      <td>...</td>\n    </tr>\n    <tr>\n      <th>328</th>\n      <td>80f1e360d5e2442e74a7ca96962cc14799070a2dc91bd5...</td>\n      <td>{'text': 'Judgment Varghese Kalliath, J.1. Thi...</td>\n      <td>[{'id': '6cbb13dbb7f84912968596510710193f', 's...</td>\n      <td>125801</td>\n      <td>Motor And General Finance (India) ... vs Mary ...</td>\n      <td>JUDGMENT Varghese Kalliath, J.1. This is a phe...</td>\n    </tr>\n    <tr>\n      <th>329</th>\n      <td>ab377c9809b20910230057a7902cefd1e017416f66584d...</td>\n      <td>{'text': 'Judgment  B.S. Kapadia, J.1. The pre...</td>\n      <td>[{'id': '1da1f4643bdc46489a9a2177934aebf0', 's...</td>\n      <td>437556</td>\n      <td>Manohar Jamatmal Sindhi And Anr. vs Ranguba An...</td>\n      <td>JUDGMENT B.S. Kapadia, J.1. The present appeal...</td>\n    </tr>\n    <tr>\n      <th>330</th>\n      <td>fc71c49e54b831d945dd59161f290f398144fb4f50bc89...</td>\n      <td>{'text': 'Judgment  K.M. Jatarajan, J.1. These...</td>\n      <td>[{'id': 'a5e2bf151b7641689539bcb23fbe3b6d', 's...</td>\n      <td>791009</td>\n      <td>Principal, Tamil Nadu ... vs A. Saraswathi And...</td>\n      <td>JUDGMENT K.M. Jatarajan, J.1. These three civi...</td>\n    </tr>\n    <tr>\n      <th>331</th>\n      <td>f152ce410cb653bb95aab27d589511083a032136198250...</td>\n      <td>{'text': 'Judgment  A.M. Ahkadi, J.  1. Mr. H....</td>\n      <td>[{'id': 'ef3726f11cf94394a184ed24e8f1530a', 's...</td>\n      <td>934048</td>\n      <td>Prataprai Arjandas Dhameja And ... vs Bhupatsi...</td>\n      <td>JUDGMENT A.M. Ahkadi, J.  1. Mr. H. P. Shroff ...</td>\n    </tr>\n    <tr>\n      <th>332</th>\n      <td>a49e4419ee06b9097a820618f77835c5183c482fb3460b...</td>\n      <td>{'text': 'Judgment     Bopanna, J.  1.  This a...</td>\n      <td>[{'id': '2dee58286a944c228283abe9c9553752', 's...</td>\n      <td>1150997</td>\n      <td>The General Manager, Karnataka ... vs Peerappa...</td>\n      <td>JUDGMENT    Bopanna, J.  1.  This appeal arise...</td>\n    </tr>\n  </tbody>\n</table>\n<p>333 rows × 6 columns</p>\n</div>"
     },
     "execution_count": 12,
     "metadata": {},
     "output_type": "execute_result"
    }
   ],
   "source": [
    "df"
   ],
   "metadata": {
    "collapsed": false,
    "pycharm": {
     "name": "#%%\n"
    }
   }
  },
  {
   "cell_type": "code",
   "execution_count": 6,
   "outputs": [
    {
     "data": {
      "text/plain": "Index(['id', 'data', 'annotations', 'tid', 'title', 'doc'], dtype='object')"
     },
     "execution_count": 6,
     "metadata": {},
     "output_type": "execute_result"
    }
   ],
   "source": [
    "df.columns"
   ],
   "metadata": {
    "collapsed": false,
    "pycharm": {
     "name": "#%%\n"
    }
   }
  },
  {
   "cell_type": "code",
   "execution_count": 13,
   "outputs": [],
   "source": [
    "#Method to print iterations progress\n",
    "def printProgressBar (iteration, total, prefix = '', suffix = '', decimals = 1, length = 100, fill = '█', printEnd = \"\\r\"):\n",
    "    \"\"\"\n",
    "    Call in a loop to create terminal progress bar\n",
    "    @params:\n",
    "        iteration   - Required  : current iteration (Int)\n",
    "        total       - Required  : total iterations (Int)\n",
    "        prefix      - Optional  : prefix string (Str)\n",
    "        suffix      - Optional  : suffix string (Str)\n",
    "        decimals    - Optional  : positive number of decimals in percent complete (Int\n",
    "        length      - Optional  : character length of bar (Int)\n",
    "        fill        - Optional  : bar fill character (Str)\n",
    "        printEnd    - Optional  : end character (e.g. \"\\r\", \"\\r\\n\") (Str)\n",
    "    \"\"\"\n",
    "    percent = (\"{0:.\" + str(decimals) + \"f}\").format(100 * (iteration / float(total)))\n",
    "    filledLength = int(length * iteration // total)\n",
    "    bar = fill * filledLength + '-' * (length - filledLength)\n",
    "    print(f'\\r{prefix} |{bar}| {percent}% {suffix}', end = printEnd)\n",
    "    # Print New Line on Complete\n",
    "    if iteration == total:\n",
    "        print()"
   ],
   "metadata": {
    "collapsed": false,
    "pycharm": {
     "name": "#%%\n"
    }
   }
  },
  {
   "cell_type": "code",
   "execution_count": 144,
   "outputs": [],
   "source": [
    "with driver.session() as session:\n",
    "    session.run(\"MATCH (n) DETACH DELETE n\")"
   ],
   "metadata": {
    "collapsed": false,
    "pycharm": {
     "name": "#%%\n"
    }
   }
  },
  {
   "cell_type": "code",
   "execution_count": 145,
   "outputs": [
    {
     "name": "stdout",
     "output_type": "stream",
     "text": [
      "Total : 333\n",
      "CREATING GRAPH: \n",
      "Progress: |---------------------------------------------------------------------------------------------------------------------------------------------------------------------------------------------------------------------------------------------------------------------------------------------------------------------------------------------| 0.0% Complete\r"
     ]
    },
    {
     "name": "stderr",
     "output_type": "stream",
     "text": [
      "/Users/sooryasrajan/.local/share/virtualenvs/LightweightBlockCipherClassifier-y2MFm9FQ/lib/python3.8/site-packages/neo4j/_sync/work/result.py:465: UserWarning: Expected a result with a single record, but found multiple.\n",
      "  warn(\"Expected a result with a single record, \"\n",
      "/Users/sooryasrajan/.local/share/virtualenvs/LightweightBlockCipherClassifier-y2MFm9FQ/lib/python3.8/site-packages/neo4j/_sync/work/result.py:465: UserWarning: Expected a result with a single record, but found multiple.\n",
      "  warn(\"Expected a result with a single record, \"\n",
      "/Users/sooryasrajan/.local/share/virtualenvs/LightweightBlockCipherClassifier-y2MFm9FQ/lib/python3.8/site-packages/neo4j/_sync/work/result.py:465: UserWarning: Expected a result with a single record, but found multiple.\n",
      "  warn(\"Expected a result with a single record, \"\n"
     ]
    },
    {
     "name": "stdout",
     "output_type": "stream",
     "text": [
      "Progress: |█--------------------------------------------------------------------------------------------------------------------------------------------------------------------------------------------------------------------------------------------------------------------------------------------------------------------------------------------| 0.3% Complete\r"
     ]
    },
    {
     "name": "stderr",
     "output_type": "stream",
     "text": [
      "/Users/sooryasrajan/.local/share/virtualenvs/LightweightBlockCipherClassifier-y2MFm9FQ/lib/python3.8/site-packages/neo4j/_sync/work/result.py:465: UserWarning: Expected a result with a single record, but found multiple.\n",
      "  warn(\"Expected a result with a single record, \"\n",
      "/Users/sooryasrajan/.local/share/virtualenvs/LightweightBlockCipherClassifier-y2MFm9FQ/lib/python3.8/site-packages/neo4j/_sync/work/result.py:465: UserWarning: Expected a result with a single record, but found multiple.\n",
      "  warn(\"Expected a result with a single record, \"\n",
      "/Users/sooryasrajan/.local/share/virtualenvs/LightweightBlockCipherClassifier-y2MFm9FQ/lib/python3.8/site-packages/neo4j/_sync/work/result.py:465: UserWarning: Expected a result with a single record, but found multiple.\n",
      "  warn(\"Expected a result with a single record, \"\n",
      "/Users/sooryasrajan/.local/share/virtualenvs/LightweightBlockCipherClassifier-y2MFm9FQ/lib/python3.8/site-packages/neo4j/_sync/work/result.py:465: UserWarning: Expected a result with a single record, but found multiple.\n",
      "  warn(\"Expected a result with a single record, \"\n",
      "/Users/sooryasrajan/.local/share/virtualenvs/LightweightBlockCipherClassifier-y2MFm9FQ/lib/python3.8/site-packages/neo4j/_sync/work/result.py:465: UserWarning: Expected a result with a single record, but found multiple.\n",
      "  warn(\"Expected a result with a single record, \"\n",
      "/Users/sooryasrajan/.local/share/virtualenvs/LightweightBlockCipherClassifier-y2MFm9FQ/lib/python3.8/site-packages/neo4j/_sync/work/result.py:465: UserWarning: Expected a result with a single record, but found multiple.\n",
      "  warn(\"Expected a result with a single record, \"\n",
      "/Users/sooryasrajan/.local/share/virtualenvs/LightweightBlockCipherClassifier-y2MFm9FQ/lib/python3.8/site-packages/neo4j/_sync/work/result.py:465: UserWarning: Expected a result with a single record, but found multiple.\n",
      "  warn(\"Expected a result with a single record, \"\n",
      "/Users/sooryasrajan/.local/share/virtualenvs/LightweightBlockCipherClassifier-y2MFm9FQ/lib/python3.8/site-packages/neo4j/_sync/work/result.py:465: UserWarning: Expected a result with a single record, but found multiple.\n",
      "  warn(\"Expected a result with a single record, \"\n",
      "/Users/sooryasrajan/.local/share/virtualenvs/LightweightBlockCipherClassifier-y2MFm9FQ/lib/python3.8/site-packages/neo4j/_sync/work/result.py:465: UserWarning: Expected a result with a single record, but found multiple.\n",
      "  warn(\"Expected a result with a single record, \"\n",
      "/Users/sooryasrajan/.local/share/virtualenvs/LightweightBlockCipherClassifier-y2MFm9FQ/lib/python3.8/site-packages/neo4j/_sync/work/result.py:465: UserWarning: Expected a result with a single record, but found multiple.\n",
      "  warn(\"Expected a result with a single record, \"\n",
      "/Users/sooryasrajan/.local/share/virtualenvs/LightweightBlockCipherClassifier-y2MFm9FQ/lib/python3.8/site-packages/neo4j/_sync/work/result.py:465: UserWarning: Expected a result with a single record, but found multiple.\n",
      "  warn(\"Expected a result with a single record, \"\n",
      "/Users/sooryasrajan/.local/share/virtualenvs/LightweightBlockCipherClassifier-y2MFm9FQ/lib/python3.8/site-packages/neo4j/_sync/work/result.py:465: UserWarning: Expected a result with a single record, but found multiple.\n",
      "  warn(\"Expected a result with a single record, \"\n",
      "/Users/sooryasrajan/.local/share/virtualenvs/LightweightBlockCipherClassifier-y2MFm9FQ/lib/python3.8/site-packages/neo4j/_sync/work/result.py:465: UserWarning: Expected a result with a single record, but found multiple.\n",
      "  warn(\"Expected a result with a single record, \"\n",
      "/Users/sooryasrajan/.local/share/virtualenvs/LightweightBlockCipherClassifier-y2MFm9FQ/lib/python3.8/site-packages/neo4j/_sync/work/result.py:465: UserWarning: Expected a result with a single record, but found multiple.\n",
      "  warn(\"Expected a result with a single record, \"\n",
      "/Users/sooryasrajan/.local/share/virtualenvs/LightweightBlockCipherClassifier-y2MFm9FQ/lib/python3.8/site-packages/neo4j/_sync/work/result.py:465: UserWarning: Expected a result with a single record, but found multiple.\n",
      "  warn(\"Expected a result with a single record, \"\n",
      "/Users/sooryasrajan/.local/share/virtualenvs/LightweightBlockCipherClassifier-y2MFm9FQ/lib/python3.8/site-packages/neo4j/_sync/work/result.py:465: UserWarning: Expected a result with a single record, but found multiple.\n",
      "  warn(\"Expected a result with a single record, \"\n",
      "/Users/sooryasrajan/.local/share/virtualenvs/LightweightBlockCipherClassifier-y2MFm9FQ/lib/python3.8/site-packages/neo4j/_sync/work/result.py:465: UserWarning: Expected a result with a single record, but found multiple.\n",
      "  warn(\"Expected a result with a single record, \"\n",
      "/Users/sooryasrajan/.local/share/virtualenvs/LightweightBlockCipherClassifier-y2MFm9FQ/lib/python3.8/site-packages/neo4j/_sync/work/result.py:465: UserWarning: Expected a result with a single record, but found multiple.\n",
      "  warn(\"Expected a result with a single record, \"\n",
      "/Users/sooryasrajan/.local/share/virtualenvs/LightweightBlockCipherClassifier-y2MFm9FQ/lib/python3.8/site-packages/neo4j/_sync/work/result.py:465: UserWarning: Expected a result with a single record, but found multiple.\n",
      "  warn(\"Expected a result with a single record, \"\n",
      "/Users/sooryasrajan/.local/share/virtualenvs/LightweightBlockCipherClassifier-y2MFm9FQ/lib/python3.8/site-packages/neo4j/_sync/work/result.py:465: UserWarning: Expected a result with a single record, but found multiple.\n",
      "  warn(\"Expected a result with a single record, \"\n",
      "/Users/sooryasrajan/.local/share/virtualenvs/LightweightBlockCipherClassifier-y2MFm9FQ/lib/python3.8/site-packages/neo4j/_sync/work/result.py:465: UserWarning: Expected a result with a single record, but found multiple.\n",
      "  warn(\"Expected a result with a single record, \"\n",
      "/Users/sooryasrajan/.local/share/virtualenvs/LightweightBlockCipherClassifier-y2MFm9FQ/lib/python3.8/site-packages/neo4j/_sync/work/result.py:465: UserWarning: Expected a result with a single record, but found multiple.\n",
      "  warn(\"Expected a result with a single record, \"\n",
      "/Users/sooryasrajan/.local/share/virtualenvs/LightweightBlockCipherClassifier-y2MFm9FQ/lib/python3.8/site-packages/neo4j/_sync/work/result.py:465: UserWarning: Expected a result with a single record, but found multiple.\n",
      "  warn(\"Expected a result with a single record, \"\n",
      "/Users/sooryasrajan/.local/share/virtualenvs/LightweightBlockCipherClassifier-y2MFm9FQ/lib/python3.8/site-packages/neo4j/_sync/work/result.py:465: UserWarning: Expected a result with a single record, but found multiple.\n",
      "  warn(\"Expected a result with a single record, \"\n",
      "/Users/sooryasrajan/.local/share/virtualenvs/LightweightBlockCipherClassifier-y2MFm9FQ/lib/python3.8/site-packages/neo4j/_sync/work/result.py:465: UserWarning: Expected a result with a single record, but found multiple.\n",
      "  warn(\"Expected a result with a single record, \"\n",
      "/Users/sooryasrajan/.local/share/virtualenvs/LightweightBlockCipherClassifier-y2MFm9FQ/lib/python3.8/site-packages/neo4j/_sync/work/result.py:465: UserWarning: Expected a result with a single record, but found multiple.\n",
      "  warn(\"Expected a result with a single record, \"\n",
      "/Users/sooryasrajan/.local/share/virtualenvs/LightweightBlockCipherClassifier-y2MFm9FQ/lib/python3.8/site-packages/neo4j/_sync/work/result.py:465: UserWarning: Expected a result with a single record, but found multiple.\n",
      "  warn(\"Expected a result with a single record, \"\n",
      "/Users/sooryasrajan/.local/share/virtualenvs/LightweightBlockCipherClassifier-y2MFm9FQ/lib/python3.8/site-packages/neo4j/_sync/work/result.py:465: UserWarning: Expected a result with a single record, but found multiple.\n",
      "  warn(\"Expected a result with a single record, \"\n",
      "/Users/sooryasrajan/.local/share/virtualenvs/LightweightBlockCipherClassifier-y2MFm9FQ/lib/python3.8/site-packages/neo4j/_sync/work/result.py:465: UserWarning: Expected a result with a single record, but found multiple.\n",
      "  warn(\"Expected a result with a single record, \"\n",
      "/Users/sooryasrajan/.local/share/virtualenvs/LightweightBlockCipherClassifier-y2MFm9FQ/lib/python3.8/site-packages/neo4j/_sync/work/result.py:465: UserWarning: Expected a result with a single record, but found multiple.\n",
      "  warn(\"Expected a result with a single record, \"\n",
      "/Users/sooryasrajan/.local/share/virtualenvs/LightweightBlockCipherClassifier-y2MFm9FQ/lib/python3.8/site-packages/neo4j/_sync/work/result.py:465: UserWarning: Expected a result with a single record, but found multiple.\n",
      "  warn(\"Expected a result with a single record, \"\n",
      "/Users/sooryasrajan/.local/share/virtualenvs/LightweightBlockCipherClassifier-y2MFm9FQ/lib/python3.8/site-packages/neo4j/_sync/work/result.py:465: UserWarning: Expected a result with a single record, but found multiple.\n",
      "  warn(\"Expected a result with a single record, \"\n",
      "/Users/sooryasrajan/.local/share/virtualenvs/LightweightBlockCipherClassifier-y2MFm9FQ/lib/python3.8/site-packages/neo4j/_sync/work/result.py:465: UserWarning: Expected a result with a single record, but found multiple.\n",
      "  warn(\"Expected a result with a single record, \"\n",
      "/Users/sooryasrajan/.local/share/virtualenvs/LightweightBlockCipherClassifier-y2MFm9FQ/lib/python3.8/site-packages/neo4j/_sync/work/result.py:465: UserWarning: Expected a result with a single record, but found multiple.\n",
      "  warn(\"Expected a result with a single record, \"\n",
      "/Users/sooryasrajan/.local/share/virtualenvs/LightweightBlockCipherClassifier-y2MFm9FQ/lib/python3.8/site-packages/neo4j/_sync/work/result.py:465: UserWarning: Expected a result with a single record, but found multiple.\n",
      "  warn(\"Expected a result with a single record, \"\n",
      "/Users/sooryasrajan/.local/share/virtualenvs/LightweightBlockCipherClassifier-y2MFm9FQ/lib/python3.8/site-packages/neo4j/_sync/work/result.py:465: UserWarning: Expected a result with a single record, but found multiple.\n",
      "  warn(\"Expected a result with a single record, \"\n",
      "/Users/sooryasrajan/.local/share/virtualenvs/LightweightBlockCipherClassifier-y2MFm9FQ/lib/python3.8/site-packages/neo4j/_sync/work/result.py:465: UserWarning: Expected a result with a single record, but found multiple.\n",
      "  warn(\"Expected a result with a single record, \"\n",
      "/Users/sooryasrajan/.local/share/virtualenvs/LightweightBlockCipherClassifier-y2MFm9FQ/lib/python3.8/site-packages/neo4j/_sync/work/result.py:465: UserWarning: Expected a result with a single record, but found multiple.\n",
      "  warn(\"Expected a result with a single record, \"\n",
      "/Users/sooryasrajan/.local/share/virtualenvs/LightweightBlockCipherClassifier-y2MFm9FQ/lib/python3.8/site-packages/neo4j/_sync/work/result.py:465: UserWarning: Expected a result with a single record, but found multiple.\n",
      "  warn(\"Expected a result with a single record, \"\n",
      "/Users/sooryasrajan/.local/share/virtualenvs/LightweightBlockCipherClassifier-y2MFm9FQ/lib/python3.8/site-packages/neo4j/_sync/work/result.py:465: UserWarning: Expected a result with a single record, but found multiple.\n",
      "  warn(\"Expected a result with a single record, \"\n",
      "/Users/sooryasrajan/.local/share/virtualenvs/LightweightBlockCipherClassifier-y2MFm9FQ/lib/python3.8/site-packages/neo4j/_sync/work/result.py:465: UserWarning: Expected a result with a single record, but found multiple.\n",
      "  warn(\"Expected a result with a single record, \"\n",
      "/Users/sooryasrajan/.local/share/virtualenvs/LightweightBlockCipherClassifier-y2MFm9FQ/lib/python3.8/site-packages/neo4j/_sync/work/result.py:465: UserWarning: Expected a result with a single record, but found multiple.\n",
      "  warn(\"Expected a result with a single record, \"\n",
      "/Users/sooryasrajan/.local/share/virtualenvs/LightweightBlockCipherClassifier-y2MFm9FQ/lib/python3.8/site-packages/neo4j/_sync/work/result.py:465: UserWarning: Expected a result with a single record, but found multiple.\n",
      "  warn(\"Expected a result with a single record, \"\n",
      "/Users/sooryasrajan/.local/share/virtualenvs/LightweightBlockCipherClassifier-y2MFm9FQ/lib/python3.8/site-packages/neo4j/_sync/work/result.py:465: UserWarning: Expected a result with a single record, but found multiple.\n",
      "  warn(\"Expected a result with a single record, \"\n",
      "/Users/sooryasrajan/.local/share/virtualenvs/LightweightBlockCipherClassifier-y2MFm9FQ/lib/python3.8/site-packages/neo4j/_sync/work/result.py:465: UserWarning: Expected a result with a single record, but found multiple.\n",
      "  warn(\"Expected a result with a single record, \"\n",
      "/Users/sooryasrajan/.local/share/virtualenvs/LightweightBlockCipherClassifier-y2MFm9FQ/lib/python3.8/site-packages/neo4j/_sync/work/result.py:465: UserWarning: Expected a result with a single record, but found multiple.\n",
      "  warn(\"Expected a result with a single record, \"\n",
      "/Users/sooryasrajan/.local/share/virtualenvs/LightweightBlockCipherClassifier-y2MFm9FQ/lib/python3.8/site-packages/neo4j/_sync/work/result.py:465: UserWarning: Expected a result with a single record, but found multiple.\n",
      "  warn(\"Expected a result with a single record, \"\n",
      "/Users/sooryasrajan/.local/share/virtualenvs/LightweightBlockCipherClassifier-y2MFm9FQ/lib/python3.8/site-packages/neo4j/_sync/work/result.py:465: UserWarning: Expected a result with a single record, but found multiple.\n",
      "  warn(\"Expected a result with a single record, \"\n",
      "/Users/sooryasrajan/.local/share/virtualenvs/LightweightBlockCipherClassifier-y2MFm9FQ/lib/python3.8/site-packages/neo4j/_sync/work/result.py:465: UserWarning: Expected a result with a single record, but found multiple.\n",
      "  warn(\"Expected a result with a single record, \"\n",
      "/Users/sooryasrajan/.local/share/virtualenvs/LightweightBlockCipherClassifier-y2MFm9FQ/lib/python3.8/site-packages/neo4j/_sync/work/result.py:465: UserWarning: Expected a result with a single record, but found multiple.\n",
      "  warn(\"Expected a result with a single record, \"\n",
      "/Users/sooryasrajan/.local/share/virtualenvs/LightweightBlockCipherClassifier-y2MFm9FQ/lib/python3.8/site-packages/neo4j/_sync/work/result.py:465: UserWarning: Expected a result with a single record, but found multiple.\n",
      "  warn(\"Expected a result with a single record, \"\n",
      "/Users/sooryasrajan/.local/share/virtualenvs/LightweightBlockCipherClassifier-y2MFm9FQ/lib/python3.8/site-packages/neo4j/_sync/work/result.py:465: UserWarning: Expected a result with a single record, but found multiple.\n",
      "  warn(\"Expected a result with a single record, \"\n",
      "/Users/sooryasrajan/.local/share/virtualenvs/LightweightBlockCipherClassifier-y2MFm9FQ/lib/python3.8/site-packages/neo4j/_sync/work/result.py:465: UserWarning: Expected a result with a single record, but found multiple.\n",
      "  warn(\"Expected a result with a single record, \"\n",
      "/Users/sooryasrajan/.local/share/virtualenvs/LightweightBlockCipherClassifier-y2MFm9FQ/lib/python3.8/site-packages/neo4j/_sync/work/result.py:465: UserWarning: Expected a result with a single record, but found multiple.\n",
      "  warn(\"Expected a result with a single record, \"\n",
      "/Users/sooryasrajan/.local/share/virtualenvs/LightweightBlockCipherClassifier-y2MFm9FQ/lib/python3.8/site-packages/neo4j/_sync/work/result.py:465: UserWarning: Expected a result with a single record, but found multiple.\n",
      "  warn(\"Expected a result with a single record, \"\n",
      "/Users/sooryasrajan/.local/share/virtualenvs/LightweightBlockCipherClassifier-y2MFm9FQ/lib/python3.8/site-packages/neo4j/_sync/work/result.py:465: UserWarning: Expected a result with a single record, but found multiple.\n",
      "  warn(\"Expected a result with a single record, \"\n",
      "/Users/sooryasrajan/.local/share/virtualenvs/LightweightBlockCipherClassifier-y2MFm9FQ/lib/python3.8/site-packages/neo4j/_sync/work/result.py:465: UserWarning: Expected a result with a single record, but found multiple.\n",
      "  warn(\"Expected a result with a single record, \"\n",
      "/Users/sooryasrajan/.local/share/virtualenvs/LightweightBlockCipherClassifier-y2MFm9FQ/lib/python3.8/site-packages/neo4j/_sync/work/result.py:465: UserWarning: Expected a result with a single record, but found multiple.\n",
      "  warn(\"Expected a result with a single record, \"\n",
      "/Users/sooryasrajan/.local/share/virtualenvs/LightweightBlockCipherClassifier-y2MFm9FQ/lib/python3.8/site-packages/neo4j/_sync/work/result.py:465: UserWarning: Expected a result with a single record, but found multiple.\n",
      "  warn(\"Expected a result with a single record, \"\n"
     ]
    },
    {
     "name": "stdout",
     "output_type": "stream",
     "text": [
      "Progress: |██-------------------------------------------------------------------------------------------------------------------------------------------------------------------------------------------------------------------------------------------------------------------------------------------------------------------------------------------| 0.6% Complete\r"
     ]
    },
    {
     "name": "stderr",
     "output_type": "stream",
     "text": [
      "/Users/sooryasrajan/.local/share/virtualenvs/LightweightBlockCipherClassifier-y2MFm9FQ/lib/python3.8/site-packages/neo4j/_sync/work/result.py:465: UserWarning: Expected a result with a single record, but found multiple.\n",
      "  warn(\"Expected a result with a single record, \"\n",
      "/Users/sooryasrajan/.local/share/virtualenvs/LightweightBlockCipherClassifier-y2MFm9FQ/lib/python3.8/site-packages/neo4j/_sync/work/result.py:465: UserWarning: Expected a result with a single record, but found multiple.\n",
      "  warn(\"Expected a result with a single record, \"\n",
      "/Users/sooryasrajan/.local/share/virtualenvs/LightweightBlockCipherClassifier-y2MFm9FQ/lib/python3.8/site-packages/neo4j/_sync/work/result.py:465: UserWarning: Expected a result with a single record, but found multiple.\n",
      "  warn(\"Expected a result with a single record, \"\n",
      "/Users/sooryasrajan/.local/share/virtualenvs/LightweightBlockCipherClassifier-y2MFm9FQ/lib/python3.8/site-packages/neo4j/_sync/work/result.py:465: UserWarning: Expected a result with a single record, but found multiple.\n",
      "  warn(\"Expected a result with a single record, \"\n",
      "/Users/sooryasrajan/.local/share/virtualenvs/LightweightBlockCipherClassifier-y2MFm9FQ/lib/python3.8/site-packages/neo4j/_sync/work/result.py:465: UserWarning: Expected a result with a single record, but found multiple.\n",
      "  warn(\"Expected a result with a single record, \"\n",
      "/Users/sooryasrajan/.local/share/virtualenvs/LightweightBlockCipherClassifier-y2MFm9FQ/lib/python3.8/site-packages/neo4j/_sync/work/result.py:465: UserWarning: Expected a result with a single record, but found multiple.\n",
      "  warn(\"Expected a result with a single record, \"\n",
      "/Users/sooryasrajan/.local/share/virtualenvs/LightweightBlockCipherClassifier-y2MFm9FQ/lib/python3.8/site-packages/neo4j/_sync/work/result.py:465: UserWarning: Expected a result with a single record, but found multiple.\n",
      "  warn(\"Expected a result with a single record, \"\n",
      "/Users/sooryasrajan/.local/share/virtualenvs/LightweightBlockCipherClassifier-y2MFm9FQ/lib/python3.8/site-packages/neo4j/_sync/work/result.py:465: UserWarning: Expected a result with a single record, but found multiple.\n",
      "  warn(\"Expected a result with a single record, \"\n",
      "/Users/sooryasrajan/.local/share/virtualenvs/LightweightBlockCipherClassifier-y2MFm9FQ/lib/python3.8/site-packages/neo4j/_sync/work/result.py:465: UserWarning: Expected a result with a single record, but found multiple.\n",
      "  warn(\"Expected a result with a single record, \"\n",
      "/Users/sooryasrajan/.local/share/virtualenvs/LightweightBlockCipherClassifier-y2MFm9FQ/lib/python3.8/site-packages/neo4j/_sync/work/result.py:465: UserWarning: Expected a result with a single record, but found multiple.\n",
      "  warn(\"Expected a result with a single record, \"\n"
     ]
    },
    {
     "name": "stdout",
     "output_type": "stream",
     "text": [
      "Progress: |███------------------------------------------------------------------------------------------------------------------------------------------------------------------------------------------------------------------------------------------------------------------------------------------------------------------------------------------| 0.9% Complete\r"
     ]
    },
    {
     "name": "stderr",
     "output_type": "stream",
     "text": [
      "/Users/sooryasrajan/.local/share/virtualenvs/LightweightBlockCipherClassifier-y2MFm9FQ/lib/python3.8/site-packages/neo4j/_sync/work/result.py:465: UserWarning: Expected a result with a single record, but found multiple.\n",
      "  warn(\"Expected a result with a single record, \"\n",
      "/Users/sooryasrajan/.local/share/virtualenvs/LightweightBlockCipherClassifier-y2MFm9FQ/lib/python3.8/site-packages/neo4j/_sync/work/result.py:465: UserWarning: Expected a result with a single record, but found multiple.\n",
      "  warn(\"Expected a result with a single record, \"\n",
      "/Users/sooryasrajan/.local/share/virtualenvs/LightweightBlockCipherClassifier-y2MFm9FQ/lib/python3.8/site-packages/neo4j/_sync/work/result.py:465: UserWarning: Expected a result with a single record, but found multiple.\n",
      "  warn(\"Expected a result with a single record, \"\n",
      "/Users/sooryasrajan/.local/share/virtualenvs/LightweightBlockCipherClassifier-y2MFm9FQ/lib/python3.8/site-packages/neo4j/_sync/work/result.py:465: UserWarning: Expected a result with a single record, but found multiple.\n",
      "  warn(\"Expected a result with a single record, \"\n",
      "/Users/sooryasrajan/.local/share/virtualenvs/LightweightBlockCipherClassifier-y2MFm9FQ/lib/python3.8/site-packages/neo4j/_sync/work/result.py:465: UserWarning: Expected a result with a single record, but found multiple.\n",
      "  warn(\"Expected a result with a single record, \"\n",
      "/Users/sooryasrajan/.local/share/virtualenvs/LightweightBlockCipherClassifier-y2MFm9FQ/lib/python3.8/site-packages/neo4j/_sync/work/result.py:465: UserWarning: Expected a result with a single record, but found multiple.\n",
      "  warn(\"Expected a result with a single record, \"\n"
     ]
    },
    {
     "name": "stdout",
     "output_type": "stream",
     "text": [
      "Progress: |████-----------------------------------------------------------------------------------------------------------------------------------------------------------------------------------------------------------------------------------------------------------------------------------------------------------------------------------------| 1.2% Complete\r"
     ]
    },
    {
     "name": "stderr",
     "output_type": "stream",
     "text": [
      "/Users/sooryasrajan/.local/share/virtualenvs/LightweightBlockCipherClassifier-y2MFm9FQ/lib/python3.8/site-packages/neo4j/_sync/work/result.py:465: UserWarning: Expected a result with a single record, but found multiple.\n",
      "  warn(\"Expected a result with a single record, \"\n",
      "/Users/sooryasrajan/.local/share/virtualenvs/LightweightBlockCipherClassifier-y2MFm9FQ/lib/python3.8/site-packages/neo4j/_sync/work/result.py:465: UserWarning: Expected a result with a single record, but found multiple.\n",
      "  warn(\"Expected a result with a single record, \"\n",
      "/Users/sooryasrajan/.local/share/virtualenvs/LightweightBlockCipherClassifier-y2MFm9FQ/lib/python3.8/site-packages/neo4j/_sync/work/result.py:465: UserWarning: Expected a result with a single record, but found multiple.\n",
      "  warn(\"Expected a result with a single record, \"\n",
      "/Users/sooryasrajan/.local/share/virtualenvs/LightweightBlockCipherClassifier-y2MFm9FQ/lib/python3.8/site-packages/neo4j/_sync/work/result.py:465: UserWarning: Expected a result with a single record, but found multiple.\n",
      "  warn(\"Expected a result with a single record, \"\n",
      "/Users/sooryasrajan/.local/share/virtualenvs/LightweightBlockCipherClassifier-y2MFm9FQ/lib/python3.8/site-packages/neo4j/_sync/work/result.py:465: UserWarning: Expected a result with a single record, but found multiple.\n",
      "  warn(\"Expected a result with a single record, \"\n",
      "/Users/sooryasrajan/.local/share/virtualenvs/LightweightBlockCipherClassifier-y2MFm9FQ/lib/python3.8/site-packages/neo4j/_sync/work/result.py:465: UserWarning: Expected a result with a single record, but found multiple.\n",
      "  warn(\"Expected a result with a single record, \"\n",
      "/Users/sooryasrajan/.local/share/virtualenvs/LightweightBlockCipherClassifier-y2MFm9FQ/lib/python3.8/site-packages/neo4j/_sync/work/result.py:465: UserWarning: Expected a result with a single record, but found multiple.\n",
      "  warn(\"Expected a result with a single record, \"\n",
      "/Users/sooryasrajan/.local/share/virtualenvs/LightweightBlockCipherClassifier-y2MFm9FQ/lib/python3.8/site-packages/neo4j/_sync/work/result.py:465: UserWarning: Expected a result with a single record, but found multiple.\n",
      "  warn(\"Expected a result with a single record, \"\n",
      "/Users/sooryasrajan/.local/share/virtualenvs/LightweightBlockCipherClassifier-y2MFm9FQ/lib/python3.8/site-packages/neo4j/_sync/work/result.py:465: UserWarning: Expected a result with a single record, but found multiple.\n",
      "  warn(\"Expected a result with a single record, \"\n",
      "/Users/sooryasrajan/.local/share/virtualenvs/LightweightBlockCipherClassifier-y2MFm9FQ/lib/python3.8/site-packages/neo4j/_sync/work/result.py:465: UserWarning: Expected a result with a single record, but found multiple.\n",
      "  warn(\"Expected a result with a single record, \"\n",
      "/Users/sooryasrajan/.local/share/virtualenvs/LightweightBlockCipherClassifier-y2MFm9FQ/lib/python3.8/site-packages/neo4j/_sync/work/result.py:465: UserWarning: Expected a result with a single record, but found multiple.\n",
      "  warn(\"Expected a result with a single record, \"\n",
      "/Users/sooryasrajan/.local/share/virtualenvs/LightweightBlockCipherClassifier-y2MFm9FQ/lib/python3.8/site-packages/neo4j/_sync/work/result.py:465: UserWarning: Expected a result with a single record, but found multiple.\n",
      "  warn(\"Expected a result with a single record, \"\n",
      "/Users/sooryasrajan/.local/share/virtualenvs/LightweightBlockCipherClassifier-y2MFm9FQ/lib/python3.8/site-packages/neo4j/_sync/work/result.py:465: UserWarning: Expected a result with a single record, but found multiple.\n",
      "  warn(\"Expected a result with a single record, \"\n",
      "/Users/sooryasrajan/.local/share/virtualenvs/LightweightBlockCipherClassifier-y2MFm9FQ/lib/python3.8/site-packages/neo4j/_sync/work/result.py:465: UserWarning: Expected a result with a single record, but found multiple.\n",
      "  warn(\"Expected a result with a single record, \"\n",
      "/Users/sooryasrajan/.local/share/virtualenvs/LightweightBlockCipherClassifier-y2MFm9FQ/lib/python3.8/site-packages/neo4j/_sync/work/result.py:465: UserWarning: Expected a result with a single record, but found multiple.\n",
      "  warn(\"Expected a result with a single record, \"\n",
      "/Users/sooryasrajan/.local/share/virtualenvs/LightweightBlockCipherClassifier-y2MFm9FQ/lib/python3.8/site-packages/neo4j/_sync/work/result.py:465: UserWarning: Expected a result with a single record, but found multiple.\n",
      "  warn(\"Expected a result with a single record, \"\n",
      "/Users/sooryasrajan/.local/share/virtualenvs/LightweightBlockCipherClassifier-y2MFm9FQ/lib/python3.8/site-packages/neo4j/_sync/work/result.py:465: UserWarning: Expected a result with a single record, but found multiple.\n",
      "  warn(\"Expected a result with a single record, \"\n",
      "/Users/sooryasrajan/.local/share/virtualenvs/LightweightBlockCipherClassifier-y2MFm9FQ/lib/python3.8/site-packages/neo4j/_sync/work/result.py:465: UserWarning: Expected a result with a single record, but found multiple.\n",
      "  warn(\"Expected a result with a single record, \"\n",
      "/Users/sooryasrajan/.local/share/virtualenvs/LightweightBlockCipherClassifier-y2MFm9FQ/lib/python3.8/site-packages/neo4j/_sync/work/result.py:465: UserWarning: Expected a result with a single record, but found multiple.\n",
      "  warn(\"Expected a result with a single record, \"\n",
      "/Users/sooryasrajan/.local/share/virtualenvs/LightweightBlockCipherClassifier-y2MFm9FQ/lib/python3.8/site-packages/neo4j/_sync/work/result.py:465: UserWarning: Expected a result with a single record, but found multiple.\n",
      "  warn(\"Expected a result with a single record, \"\n",
      "/Users/sooryasrajan/.local/share/virtualenvs/LightweightBlockCipherClassifier-y2MFm9FQ/lib/python3.8/site-packages/neo4j/_sync/work/result.py:465: UserWarning: Expected a result with a single record, but found multiple.\n",
      "  warn(\"Expected a result with a single record, \"\n",
      "/Users/sooryasrajan/.local/share/virtualenvs/LightweightBlockCipherClassifier-y2MFm9FQ/lib/python3.8/site-packages/neo4j/_sync/work/result.py:465: UserWarning: Expected a result with a single record, but found multiple.\n",
      "  warn(\"Expected a result with a single record, \"\n",
      "/Users/sooryasrajan/.local/share/virtualenvs/LightweightBlockCipherClassifier-y2MFm9FQ/lib/python3.8/site-packages/neo4j/_sync/work/result.py:465: UserWarning: Expected a result with a single record, but found multiple.\n",
      "  warn(\"Expected a result with a single record, \"\n",
      "/Users/sooryasrajan/.local/share/virtualenvs/LightweightBlockCipherClassifier-y2MFm9FQ/lib/python3.8/site-packages/neo4j/_sync/work/result.py:465: UserWarning: Expected a result with a single record, but found multiple.\n",
      "  warn(\"Expected a result with a single record, \"\n",
      "/Users/sooryasrajan/.local/share/virtualenvs/LightweightBlockCipherClassifier-y2MFm9FQ/lib/python3.8/site-packages/neo4j/_sync/work/result.py:465: UserWarning: Expected a result with a single record, but found multiple.\n",
      "  warn(\"Expected a result with a single record, \"\n",
      "/Users/sooryasrajan/.local/share/virtualenvs/LightweightBlockCipherClassifier-y2MFm9FQ/lib/python3.8/site-packages/neo4j/_sync/work/result.py:465: UserWarning: Expected a result with a single record, but found multiple.\n",
      "  warn(\"Expected a result with a single record, \"\n",
      "/Users/sooryasrajan/.local/share/virtualenvs/LightweightBlockCipherClassifier-y2MFm9FQ/lib/python3.8/site-packages/neo4j/_sync/work/result.py:465: UserWarning: Expected a result with a single record, but found multiple.\n",
      "  warn(\"Expected a result with a single record, \"\n",
      "/Users/sooryasrajan/.local/share/virtualenvs/LightweightBlockCipherClassifier-y2MFm9FQ/lib/python3.8/site-packages/neo4j/_sync/work/result.py:465: UserWarning: Expected a result with a single record, but found multiple.\n",
      "  warn(\"Expected a result with a single record, \"\n",
      "/Users/sooryasrajan/.local/share/virtualenvs/LightweightBlockCipherClassifier-y2MFm9FQ/lib/python3.8/site-packages/neo4j/_sync/work/result.py:465: UserWarning: Expected a result with a single record, but found multiple.\n",
      "  warn(\"Expected a result with a single record, \"\n",
      "/Users/sooryasrajan/.local/share/virtualenvs/LightweightBlockCipherClassifier-y2MFm9FQ/lib/python3.8/site-packages/neo4j/_sync/work/result.py:465: UserWarning: Expected a result with a single record, but found multiple.\n",
      "  warn(\"Expected a result with a single record, \"\n",
      "/Users/sooryasrajan/.local/share/virtualenvs/LightweightBlockCipherClassifier-y2MFm9FQ/lib/python3.8/site-packages/neo4j/_sync/work/result.py:465: UserWarning: Expected a result with a single record, but found multiple.\n",
      "  warn(\"Expected a result with a single record, \"\n",
      "/Users/sooryasrajan/.local/share/virtualenvs/LightweightBlockCipherClassifier-y2MFm9FQ/lib/python3.8/site-packages/neo4j/_sync/work/result.py:465: UserWarning: Expected a result with a single record, but found multiple.\n",
      "  warn(\"Expected a result with a single record, \"\n",
      "/Users/sooryasrajan/.local/share/virtualenvs/LightweightBlockCipherClassifier-y2MFm9FQ/lib/python3.8/site-packages/neo4j/_sync/work/result.py:465: UserWarning: Expected a result with a single record, but found multiple.\n",
      "  warn(\"Expected a result with a single record, \"\n",
      "/Users/sooryasrajan/.local/share/virtualenvs/LightweightBlockCipherClassifier-y2MFm9FQ/lib/python3.8/site-packages/neo4j/_sync/work/result.py:465: UserWarning: Expected a result with a single record, but found multiple.\n",
      "  warn(\"Expected a result with a single record, \"\n",
      "/Users/sooryasrajan/.local/share/virtualenvs/LightweightBlockCipherClassifier-y2MFm9FQ/lib/python3.8/site-packages/neo4j/_sync/work/result.py:465: UserWarning: Expected a result with a single record, but found multiple.\n",
      "  warn(\"Expected a result with a single record, \"\n",
      "/Users/sooryasrajan/.local/share/virtualenvs/LightweightBlockCipherClassifier-y2MFm9FQ/lib/python3.8/site-packages/neo4j/_sync/work/result.py:465: UserWarning: Expected a result with a single record, but found multiple.\n",
      "  warn(\"Expected a result with a single record, \"\n",
      "/Users/sooryasrajan/.local/share/virtualenvs/LightweightBlockCipherClassifier-y2MFm9FQ/lib/python3.8/site-packages/neo4j/_sync/work/result.py:465: UserWarning: Expected a result with a single record, but found multiple.\n",
      "  warn(\"Expected a result with a single record, \"\n",
      "/Users/sooryasrajan/.local/share/virtualenvs/LightweightBlockCipherClassifier-y2MFm9FQ/lib/python3.8/site-packages/neo4j/_sync/work/result.py:465: UserWarning: Expected a result with a single record, but found multiple.\n",
      "  warn(\"Expected a result with a single record, \"\n",
      "/Users/sooryasrajan/.local/share/virtualenvs/LightweightBlockCipherClassifier-y2MFm9FQ/lib/python3.8/site-packages/neo4j/_sync/work/result.py:465: UserWarning: Expected a result with a single record, but found multiple.\n",
      "  warn(\"Expected a result with a single record, \"\n"
     ]
    },
    {
     "name": "stdout",
     "output_type": "stream",
     "text": [
      "Progress: |█████----------------------------------------------------------------------------------------------------------------------------------------------------------------------------------------------------------------------------------------------------------------------------------------------------------------------------------------| 1.5% Complete\r"
     ]
    },
    {
     "name": "stderr",
     "output_type": "stream",
     "text": [
      "/Users/sooryasrajan/.local/share/virtualenvs/LightweightBlockCipherClassifier-y2MFm9FQ/lib/python3.8/site-packages/neo4j/_sync/work/result.py:465: UserWarning: Expected a result with a single record, but found multiple.\n",
      "  warn(\"Expected a result with a single record, \"\n",
      "/Users/sooryasrajan/.local/share/virtualenvs/LightweightBlockCipherClassifier-y2MFm9FQ/lib/python3.8/site-packages/neo4j/_sync/work/result.py:465: UserWarning: Expected a result with a single record, but found multiple.\n",
      "  warn(\"Expected a result with a single record, \"\n",
      "/Users/sooryasrajan/.local/share/virtualenvs/LightweightBlockCipherClassifier-y2MFm9FQ/lib/python3.8/site-packages/neo4j/_sync/work/result.py:465: UserWarning: Expected a result with a single record, but found multiple.\n",
      "  warn(\"Expected a result with a single record, \"\n",
      "/Users/sooryasrajan/.local/share/virtualenvs/LightweightBlockCipherClassifier-y2MFm9FQ/lib/python3.8/site-packages/neo4j/_sync/work/result.py:465: UserWarning: Expected a result with a single record, but found multiple.\n",
      "  warn(\"Expected a result with a single record, \"\n",
      "/Users/sooryasrajan/.local/share/virtualenvs/LightweightBlockCipherClassifier-y2MFm9FQ/lib/python3.8/site-packages/neo4j/_sync/work/result.py:465: UserWarning: Expected a result with a single record, but found multiple.\n",
      "  warn(\"Expected a result with a single record, \"\n",
      "/Users/sooryasrajan/.local/share/virtualenvs/LightweightBlockCipherClassifier-y2MFm9FQ/lib/python3.8/site-packages/neo4j/_sync/work/result.py:465: UserWarning: Expected a result with a single record, but found multiple.\n",
      "  warn(\"Expected a result with a single record, \"\n",
      "/Users/sooryasrajan/.local/share/virtualenvs/LightweightBlockCipherClassifier-y2MFm9FQ/lib/python3.8/site-packages/neo4j/_sync/work/result.py:465: UserWarning: Expected a result with a single record, but found multiple.\n",
      "  warn(\"Expected a result with a single record, \"\n",
      "/Users/sooryasrajan/.local/share/virtualenvs/LightweightBlockCipherClassifier-y2MFm9FQ/lib/python3.8/site-packages/neo4j/_sync/work/result.py:465: UserWarning: Expected a result with a single record, but found multiple.\n",
      "  warn(\"Expected a result with a single record, \"\n",
      "/Users/sooryasrajan/.local/share/virtualenvs/LightweightBlockCipherClassifier-y2MFm9FQ/lib/python3.8/site-packages/neo4j/_sync/work/result.py:465: UserWarning: Expected a result with a single record, but found multiple.\n",
      "  warn(\"Expected a result with a single record, \"\n",
      "/Users/sooryasrajan/.local/share/virtualenvs/LightweightBlockCipherClassifier-y2MFm9FQ/lib/python3.8/site-packages/neo4j/_sync/work/result.py:465: UserWarning: Expected a result with a single record, but found multiple.\n",
      "  warn(\"Expected a result with a single record, \"\n",
      "/Users/sooryasrajan/.local/share/virtualenvs/LightweightBlockCipherClassifier-y2MFm9FQ/lib/python3.8/site-packages/neo4j/_sync/work/result.py:465: UserWarning: Expected a result with a single record, but found multiple.\n",
      "  warn(\"Expected a result with a single record, \"\n",
      "/Users/sooryasrajan/.local/share/virtualenvs/LightweightBlockCipherClassifier-y2MFm9FQ/lib/python3.8/site-packages/neo4j/_sync/work/result.py:465: UserWarning: Expected a result with a single record, but found multiple.\n",
      "  warn(\"Expected a result with a single record, \"\n",
      "/Users/sooryasrajan/.local/share/virtualenvs/LightweightBlockCipherClassifier-y2MFm9FQ/lib/python3.8/site-packages/neo4j/_sync/work/result.py:465: UserWarning: Expected a result with a single record, but found multiple.\n",
      "  warn(\"Expected a result with a single record, \"\n",
      "/Users/sooryasrajan/.local/share/virtualenvs/LightweightBlockCipherClassifier-y2MFm9FQ/lib/python3.8/site-packages/neo4j/_sync/work/result.py:465: UserWarning: Expected a result with a single record, but found multiple.\n",
      "  warn(\"Expected a result with a single record, \"\n",
      "/Users/sooryasrajan/.local/share/virtualenvs/LightweightBlockCipherClassifier-y2MFm9FQ/lib/python3.8/site-packages/neo4j/_sync/work/result.py:465: UserWarning: Expected a result with a single record, but found multiple.\n",
      "  warn(\"Expected a result with a single record, \"\n"
     ]
    },
    {
     "ename": "KeyboardInterrupt",
     "evalue": "",
     "output_type": "error",
     "traceback": [
      "\u001B[0;31m---------------------------------------------------------------------------\u001B[0m",
      "\u001B[0;31mKeyboardInterrupt\u001B[0m                         Traceback (most recent call last)",
      "Input \u001B[0;32mIn [145]\u001B[0m, in \u001B[0;36m<cell line: 8>\u001B[0;34m()\u001B[0m\n\u001B[1;32m     69\u001B[0m                         session\u001B[38;5;241m.\u001B[39mrun(\u001B[38;5;124m\"\u001B[39m\u001B[38;5;124mMATCH (n:Entity \u001B[39m\u001B[38;5;124m{\u001B[39m\u001B[38;5;124mtype: $type})\u001B[39m\u001B[38;5;124m\"\u001B[39m\n\u001B[1;32m     70\u001B[0m                                     \u001B[38;5;124m\"\u001B[39m\u001B[38;5;124mWHERE apoc.text.levenshteinSimilarity(toLower($name), toLower(n.name)) > 0.6 \u001B[39m\u001B[38;5;124m\"\u001B[39m\n\u001B[1;32m     71\u001B[0m                                     \u001B[38;5;124m\"\u001B[39m\u001B[38;5;124mSET n.parent_id = apoc.coll.union(\u001B[39m\u001B[38;5;124m\"\u001B[39m\n\u001B[1;32m     72\u001B[0m                                     \u001B[38;5;124m\"\u001B[39m\u001B[38;5;124mn.parent_id, $parent_id)\u001B[39m\u001B[38;5;124m\"\u001B[39m,\n\u001B[1;32m     73\u001B[0m                                     name\u001B[38;5;241m=\u001B[39mnormalized_name, \u001B[38;5;28mtype\u001B[39m\u001B[38;5;241m=\u001B[39mlabel, parent_id\u001B[38;5;241m=\u001B[39m[text_id])\n\u001B[1;32m     76\u001B[0m                     relationship \u001B[38;5;241m=\u001B[39m \u001B[38;5;124m\"\u001B[39m\u001B[38;5;124mNormalized Name found in subtext: \u001B[39m\u001B[38;5;124m\"\u001B[39m \u001B[38;5;241m+\u001B[39m \u001B[38;5;28mstr\u001B[39m(text_id) \u001B[38;5;241m+\u001B[39m \u001B[38;5;124m\"\u001B[39m\u001B[38;5;124m, of case with ID \u001B[39m\u001B[38;5;124m\"\u001B[39m \u001B[38;5;241m+\u001B[39m \u001B[38;5;28mstr\u001B[39m(tid)\n\u001B[0;32m---> 78\u001B[0m                     \u001B[43msession\u001B[49m\u001B[38;5;241;43m.\u001B[39;49m\u001B[43mrun\u001B[49m\u001B[43m(\u001B[49m\u001B[38;5;124;43m\"\u001B[39;49m\u001B[38;5;124;43mMATCH (a:Entity \u001B[39;49m\u001B[38;5;124;43m{\u001B[39;49m\u001B[38;5;124;43mtype: $type}),\u001B[39;49m\u001B[38;5;124;43m\"\u001B[39;49m\n\u001B[1;32m     79\u001B[0m \u001B[43m                                \u001B[49m\u001B[38;5;124;43m\"\u001B[39;49m\u001B[38;5;124;43m(b:SubText \u001B[39;49m\u001B[38;5;124;43m{\u001B[39;49m\u001B[38;5;124;43mtext_id: $parent_id, case_annotation_id: $case_annotation_id}) \u001B[39;49m\u001B[38;5;124;43m\"\u001B[39;49m\n\u001B[1;32m     80\u001B[0m \u001B[43m                                \u001B[49m\u001B[38;5;124;43m\"\u001B[39;49m\u001B[38;5;124;43mWHERE $parent_id IN a.parent_id  \u001B[39;49m\u001B[38;5;124;43m\"\u001B[39;49m\n\u001B[1;32m     81\u001B[0m \u001B[43m                                \u001B[49m\u001B[38;5;124;43m\"\u001B[39;49m\u001B[38;5;124;43mMERGE (a)-[ r:\u001B[39;49m\u001B[38;5;124;43m\"\u001B[39;49m\u001B[43m \u001B[49m\u001B[38;5;241;43m+\u001B[39;49m\u001B[43m \u001B[49m\u001B[43mlabel\u001B[49m\u001B[43m \u001B[49m\u001B[38;5;241;43m+\u001B[39;49m\u001B[43m \u001B[49m\u001B[38;5;124;43m\"\u001B[39;49m\u001B[38;5;124;43m_OF\u001B[39;49m\u001B[38;5;124;43m\"\u001B[39;49m\u001B[43m \u001B[49m\u001B[38;5;241;43m+\u001B[39;49m\u001B[43m \u001B[49m\u001B[38;5;124;43m\"\u001B[39;49m\u001B[38;5;124;43m \u001B[39;49m\u001B[38;5;124;43m{\u001B[39;49m\u001B[38;5;124;43mrelationship: $relationship}]->(b)\u001B[39;49m\u001B[38;5;124;43m\"\u001B[39;49m\u001B[43m,\u001B[49m\n\u001B[1;32m     82\u001B[0m \u001B[43m                                \u001B[49m\u001B[43mparent_id\u001B[49m\u001B[38;5;241;43m=\u001B[39;49m\u001B[43mtext_id\u001B[49m\u001B[43m,\u001B[49m\n\u001B[1;32m     83\u001B[0m \u001B[43m                                \u001B[49m\u001B[38;5;28;43mtype\u001B[39;49m\u001B[38;5;241;43m=\u001B[39;49m\u001B[43mlabel\u001B[49m\u001B[43m,\u001B[49m\n\u001B[1;32m     84\u001B[0m \u001B[43m                                \u001B[49m\u001B[43mcase_annotation_id\u001B[49m\u001B[38;5;241;43m=\u001B[39;49m\u001B[43mannotation_id\u001B[49m\u001B[43m,\u001B[49m\n\u001B[1;32m     85\u001B[0m \u001B[43m                                \u001B[49m\u001B[43mrelationship\u001B[49m\u001B[38;5;241;43m=\u001B[39;49m\u001B[43mrelationship\u001B[49m\u001B[43m,\u001B[49m\n\u001B[1;32m     86\u001B[0m \u001B[43m                                \u001B[49m\u001B[43mlabel\u001B[49m\u001B[38;5;241;43m=\u001B[39;49m\u001B[43mlabel\u001B[49m\u001B[43m)\u001B[49m\n\u001B[1;32m     88\u001B[0m count \u001B[38;5;241m=\u001B[39m count \u001B[38;5;241m+\u001B[39m \u001B[38;5;241m1\u001B[39m\n\u001B[1;32m     89\u001B[0m printProgressBar(count, total, prefix\u001B[38;5;241m=\u001B[39m\u001B[38;5;124m'\u001B[39m\u001B[38;5;124mProgress:\u001B[39m\u001B[38;5;124m'\u001B[39m, suffix\u001B[38;5;241m=\u001B[39m\u001B[38;5;124m'\u001B[39m\u001B[38;5;124mComplete\u001B[39m\u001B[38;5;124m'\u001B[39m, length\u001B[38;5;241m=\u001B[39mtotal)\n",
      "File \u001B[0;32m~/.local/share/virtualenvs/LightweightBlockCipherClassifier-y2MFm9FQ/lib/python3.8/site-packages/neo4j/_sync/work/session.py:289\u001B[0m, in \u001B[0;36mSession.run\u001B[0;34m(self, query, parameters, **kwargs)\u001B[0m\n\u001B[1;32m    287\u001B[0m bookmarks \u001B[38;5;241m=\u001B[39m \u001B[38;5;28mself\u001B[39m\u001B[38;5;241m.\u001B[39m_get_bookmarks()\n\u001B[1;32m    288\u001B[0m parameters \u001B[38;5;241m=\u001B[39m \u001B[38;5;28mdict\u001B[39m(parameters \u001B[38;5;129;01mor\u001B[39;00m {}, \u001B[38;5;241m*\u001B[39m\u001B[38;5;241m*\u001B[39mkwargs)\n\u001B[0;32m--> 289\u001B[0m \u001B[38;5;28;43mself\u001B[39;49m\u001B[38;5;241;43m.\u001B[39;49m\u001B[43m_auto_result\u001B[49m\u001B[38;5;241;43m.\u001B[39;49m\u001B[43m_run\u001B[49m\u001B[43m(\u001B[49m\n\u001B[1;32m    290\u001B[0m \u001B[43m    \u001B[49m\u001B[43mquery\u001B[49m\u001B[43m,\u001B[49m\u001B[43m \u001B[49m\u001B[43mparameters\u001B[49m\u001B[43m,\u001B[49m\u001B[43m \u001B[49m\u001B[38;5;28;43mself\u001B[39;49m\u001B[38;5;241;43m.\u001B[39;49m\u001B[43m_config\u001B[49m\u001B[38;5;241;43m.\u001B[39;49m\u001B[43mdatabase\u001B[49m\u001B[43m,\u001B[49m\n\u001B[1;32m    291\u001B[0m \u001B[43m    \u001B[49m\u001B[38;5;28;43mself\u001B[39;49m\u001B[38;5;241;43m.\u001B[39;49m\u001B[43m_config\u001B[49m\u001B[38;5;241;43m.\u001B[39;49m\u001B[43mimpersonated_user\u001B[49m\u001B[43m,\u001B[49m\u001B[43m \u001B[49m\u001B[38;5;28;43mself\u001B[39;49m\u001B[38;5;241;43m.\u001B[39;49m\u001B[43m_config\u001B[49m\u001B[38;5;241;43m.\u001B[39;49m\u001B[43mdefault_access_mode\u001B[49m\u001B[43m,\u001B[49m\n\u001B[1;32m    292\u001B[0m \u001B[43m    \u001B[49m\u001B[43mbookmarks\u001B[49m\n\u001B[1;32m    293\u001B[0m \u001B[43m\u001B[49m\u001B[43m)\u001B[49m\n\u001B[1;32m    295\u001B[0m \u001B[38;5;28;01mreturn\u001B[39;00m \u001B[38;5;28mself\u001B[39m\u001B[38;5;241m.\u001B[39m_auto_result\n",
      "File \u001B[0;32m~/.local/share/virtualenvs/LightweightBlockCipherClassifier-y2MFm9FQ/lib/python3.8/site-packages/neo4j/_sync/work/result.py:166\u001B[0m, in \u001B[0;36mResult._run\u001B[0;34m(self, query, parameters, db, imp_user, access_mode, bookmarks)\u001B[0m\n\u001B[1;32m    164\u001B[0m \u001B[38;5;28mself\u001B[39m\u001B[38;5;241m.\u001B[39m_pull()\n\u001B[1;32m    165\u001B[0m \u001B[38;5;28mself\u001B[39m\u001B[38;5;241m.\u001B[39m_connection\u001B[38;5;241m.\u001B[39msend_all()\n\u001B[0;32m--> 166\u001B[0m \u001B[38;5;28;43mself\u001B[39;49m\u001B[38;5;241;43m.\u001B[39;49m\u001B[43m_attach\u001B[49m\u001B[43m(\u001B[49m\u001B[43m)\u001B[49m\n",
      "File \u001B[0;32m~/.local/share/virtualenvs/LightweightBlockCipherClassifier-y2MFm9FQ/lib/python3.8/site-packages/neo4j/_sync/work/result.py:274\u001B[0m, in \u001B[0;36mResult._attach\u001B[0;34m(self)\u001B[0m\n\u001B[1;32m    272\u001B[0m \u001B[38;5;28;01mif\u001B[39;00m \u001B[38;5;28mself\u001B[39m\u001B[38;5;241m.\u001B[39m_exhausted \u001B[38;5;129;01mis\u001B[39;00m \u001B[38;5;28;01mFalse\u001B[39;00m:\n\u001B[1;32m    273\u001B[0m     \u001B[38;5;28;01mwhile\u001B[39;00m \u001B[38;5;28mself\u001B[39m\u001B[38;5;241m.\u001B[39m_attached \u001B[38;5;129;01mis\u001B[39;00m \u001B[38;5;28;01mFalse\u001B[39;00m:\n\u001B[0;32m--> 274\u001B[0m         \u001B[38;5;28;43mself\u001B[39;49m\u001B[38;5;241;43m.\u001B[39;49m\u001B[43m_connection\u001B[49m\u001B[38;5;241;43m.\u001B[39;49m\u001B[43mfetch_message\u001B[49m\u001B[43m(\u001B[49m\u001B[43m)\u001B[49m\n",
      "File \u001B[0;32m~/.local/share/virtualenvs/LightweightBlockCipherClassifier-y2MFm9FQ/lib/python3.8/site-packages/neo4j/_sync/io/_common.py:180\u001B[0m, in \u001B[0;36mConnectionErrorHandler.__getattr__.<locals>.outer.<locals>.inner\u001B[0;34m(*args, **kwargs)\u001B[0m\n\u001B[1;32m    178\u001B[0m \u001B[38;5;28;01mdef\u001B[39;00m \u001B[38;5;21minner\u001B[39m(\u001B[38;5;241m*\u001B[39margs, \u001B[38;5;241m*\u001B[39m\u001B[38;5;241m*\u001B[39mkwargs):\n\u001B[1;32m    179\u001B[0m     \u001B[38;5;28;01mtry\u001B[39;00m:\n\u001B[0;32m--> 180\u001B[0m         \u001B[43mfunc\u001B[49m\u001B[43m(\u001B[49m\u001B[38;5;241;43m*\u001B[39;49m\u001B[43margs\u001B[49m\u001B[43m,\u001B[49m\u001B[43m \u001B[49m\u001B[38;5;241;43m*\u001B[39;49m\u001B[38;5;241;43m*\u001B[39;49m\u001B[43mkwargs\u001B[49m\u001B[43m)\u001B[49m\n\u001B[1;32m    181\u001B[0m     \u001B[38;5;28;01mexcept\u001B[39;00m (Neo4jError, ServiceUnavailable, SessionExpired) \u001B[38;5;28;01mas\u001B[39;00m exc:\n\u001B[1;32m    182\u001B[0m         \u001B[38;5;28;01massert\u001B[39;00m \u001B[38;5;129;01mnot\u001B[39;00m asyncio\u001B[38;5;241m.\u001B[39miscoroutinefunction(\u001B[38;5;28mself\u001B[39m\u001B[38;5;241m.\u001B[39m__on_error)\n",
      "File \u001B[0;32m~/.local/share/virtualenvs/LightweightBlockCipherClassifier-y2MFm9FQ/lib/python3.8/site-packages/neo4j/_sync/io/_bolt.py:655\u001B[0m, in \u001B[0;36mBolt.fetch_message\u001B[0;34m(self)\u001B[0m\n\u001B[1;32m    652\u001B[0m     \u001B[38;5;28;01mreturn\u001B[39;00m \u001B[38;5;241m0\u001B[39m, \u001B[38;5;241m0\u001B[39m\n\u001B[1;32m    654\u001B[0m \u001B[38;5;66;03m# Receive exactly one message\u001B[39;00m\n\u001B[0;32m--> 655\u001B[0m tag, fields \u001B[38;5;241m=\u001B[39m \u001B[38;5;28;43mself\u001B[39;49m\u001B[38;5;241;43m.\u001B[39;49m\u001B[43minbox\u001B[49m\u001B[38;5;241;43m.\u001B[39;49m\u001B[43mpop\u001B[49m\u001B[43m(\u001B[49m\n\u001B[1;32m    656\u001B[0m \u001B[43m    \u001B[49m\u001B[43mhydration_hooks\u001B[49m\u001B[38;5;241;43m=\u001B[39;49m\u001B[38;5;28;43mself\u001B[39;49m\u001B[38;5;241;43m.\u001B[39;49m\u001B[43mresponses\u001B[49m\u001B[43m[\u001B[49m\u001B[38;5;241;43m0\u001B[39;49m\u001B[43m]\u001B[49m\u001B[38;5;241;43m.\u001B[39;49m\u001B[43mhydration_hooks\u001B[49m\n\u001B[1;32m    657\u001B[0m \u001B[43m\u001B[49m\u001B[43m)\u001B[49m\n\u001B[1;32m    658\u001B[0m res \u001B[38;5;241m=\u001B[39m \u001B[38;5;28mself\u001B[39m\u001B[38;5;241m.\u001B[39m_process_message(tag, fields)\n\u001B[1;32m    659\u001B[0m \u001B[38;5;28mself\u001B[39m\u001B[38;5;241m.\u001B[39midle_since \u001B[38;5;241m=\u001B[39m perf_counter()\n",
      "File \u001B[0;32m~/.local/share/virtualenvs/LightweightBlockCipherClassifier-y2MFm9FQ/lib/python3.8/site-packages/neo4j/_sync/io/_common.py:74\u001B[0m, in \u001B[0;36mInbox.pop\u001B[0;34m(self, hydration_hooks)\u001B[0m\n\u001B[1;32m     73\u001B[0m \u001B[38;5;28;01mdef\u001B[39;00m \u001B[38;5;21mpop\u001B[39m(\u001B[38;5;28mself\u001B[39m, hydration_hooks):\n\u001B[0;32m---> 74\u001B[0m     \u001B[38;5;28;43mself\u001B[39;49m\u001B[38;5;241;43m.\u001B[39;49m\u001B[43m_buffer_one_chunk\u001B[49m\u001B[43m(\u001B[49m\u001B[43m)\u001B[49m\n\u001B[1;32m     75\u001B[0m     \u001B[38;5;28;01mtry\u001B[39;00m:\n\u001B[1;32m     76\u001B[0m         size, tag \u001B[38;5;241m=\u001B[39m \u001B[38;5;28mself\u001B[39m\u001B[38;5;241m.\u001B[39m_unpacker\u001B[38;5;241m.\u001B[39munpack_structure_header()\n",
      "File \u001B[0;32m~/.local/share/virtualenvs/LightweightBlockCipherClassifier-y2MFm9FQ/lib/python3.8/site-packages/neo4j/_sync/io/_common.py:53\u001B[0m, in \u001B[0;36mInbox._buffer_one_chunk\u001B[0;34m(self)\u001B[0m\n\u001B[1;32m     50\u001B[0m \u001B[38;5;28;01mwhile\u001B[39;00m \u001B[38;5;28;01mTrue\u001B[39;00m:\n\u001B[1;32m     51\u001B[0m     \u001B[38;5;28;01mwhile\u001B[39;00m chunk_size \u001B[38;5;241m==\u001B[39m \u001B[38;5;241m0\u001B[39m:\n\u001B[1;32m     52\u001B[0m         \u001B[38;5;66;03m# Determine the chunk size and skip noop\u001B[39;00m\n\u001B[0;32m---> 53\u001B[0m         \u001B[43mreceive_into_buffer\u001B[49m\u001B[43m(\u001B[49m\u001B[38;5;28;43mself\u001B[39;49m\u001B[38;5;241;43m.\u001B[39;49m\u001B[43m_socket\u001B[49m\u001B[43m,\u001B[49m\u001B[43m \u001B[49m\u001B[38;5;28;43mself\u001B[39;49m\u001B[38;5;241;43m.\u001B[39;49m\u001B[43m_buffer\u001B[49m\u001B[43m,\u001B[49m\u001B[43m \u001B[49m\u001B[38;5;241;43m2\u001B[39;49m\u001B[43m)\u001B[49m\n\u001B[1;32m     54\u001B[0m         chunk_size \u001B[38;5;241m=\u001B[39m \u001B[38;5;28mself\u001B[39m\u001B[38;5;241m.\u001B[39m_buffer\u001B[38;5;241m.\u001B[39mpop_u16()\n\u001B[1;32m     55\u001B[0m         \u001B[38;5;28;01mif\u001B[39;00m chunk_size \u001B[38;5;241m==\u001B[39m \u001B[38;5;241m0\u001B[39m:\n",
      "File \u001B[0;32m~/.local/share/virtualenvs/LightweightBlockCipherClassifier-y2MFm9FQ/lib/python3.8/site-packages/neo4j/_sync/io/_common.py:293\u001B[0m, in \u001B[0;36mreceive_into_buffer\u001B[0;34m(sock, buffer, n_bytes)\u001B[0m\n\u001B[1;32m    291\u001B[0m \u001B[38;5;28;01mwith\u001B[39;00m \u001B[38;5;28mmemoryview\u001B[39m(buffer\u001B[38;5;241m.\u001B[39mdata) \u001B[38;5;28;01mas\u001B[39;00m view:\n\u001B[1;32m    292\u001B[0m     \u001B[38;5;28;01mwhile\u001B[39;00m buffer\u001B[38;5;241m.\u001B[39mused \u001B[38;5;241m<\u001B[39m end:\n\u001B[0;32m--> 293\u001B[0m         n \u001B[38;5;241m=\u001B[39m \u001B[43msock\u001B[49m\u001B[38;5;241;43m.\u001B[39;49m\u001B[43mrecv_into\u001B[49m\u001B[43m(\u001B[49m\u001B[43mview\u001B[49m\u001B[43m[\u001B[49m\u001B[43mbuffer\u001B[49m\u001B[38;5;241;43m.\u001B[39;49m\u001B[43mused\u001B[49m\u001B[43m:\u001B[49m\u001B[43mend\u001B[49m\u001B[43m]\u001B[49m\u001B[43m,\u001B[49m\u001B[43m \u001B[49m\u001B[43mend\u001B[49m\u001B[43m \u001B[49m\u001B[38;5;241;43m-\u001B[39;49m\u001B[43m \u001B[49m\u001B[43mbuffer\u001B[49m\u001B[38;5;241;43m.\u001B[39;49m\u001B[43mused\u001B[49m\u001B[43m)\u001B[49m\n\u001B[1;32m    294\u001B[0m         \u001B[38;5;28;01mif\u001B[39;00m n \u001B[38;5;241m==\u001B[39m \u001B[38;5;241m0\u001B[39m:\n\u001B[1;32m    295\u001B[0m             \u001B[38;5;28;01mraise\u001B[39;00m \u001B[38;5;167;01mOSError\u001B[39;00m(\u001B[38;5;124m\"\u001B[39m\u001B[38;5;124mNo data\u001B[39m\u001B[38;5;124m\"\u001B[39m)\n",
      "File \u001B[0;32m~/.local/share/virtualenvs/LightweightBlockCipherClassifier-y2MFm9FQ/lib/python3.8/site-packages/neo4j/_async_compat/network/_bolt_socket.py:472\u001B[0m, in \u001B[0;36mBoltSocket.recv_into\u001B[0;34m(self, buffer, nbytes)\u001B[0m\n\u001B[1;32m    471\u001B[0m \u001B[38;5;28;01mdef\u001B[39;00m \u001B[38;5;21mrecv_into\u001B[39m(\u001B[38;5;28mself\u001B[39m, buffer, nbytes):\n\u001B[0;32m--> 472\u001B[0m     \u001B[38;5;28;01mreturn\u001B[39;00m \u001B[38;5;28;43mself\u001B[39;49m\u001B[38;5;241;43m.\u001B[39;49m\u001B[43m_wait_for_io\u001B[49m\u001B[43m(\u001B[49m\u001B[38;5;28;43mself\u001B[39;49m\u001B[38;5;241;43m.\u001B[39;49m\u001B[43m_socket\u001B[49m\u001B[38;5;241;43m.\u001B[39;49m\u001B[43mrecv_into\u001B[49m\u001B[43m,\u001B[49m\u001B[43m \u001B[49m\u001B[43mbuffer\u001B[49m\u001B[43m,\u001B[49m\u001B[43m \u001B[49m\u001B[43mnbytes\u001B[49m\u001B[43m)\u001B[49m\n",
      "File \u001B[0;32m~/.local/share/virtualenvs/LightweightBlockCipherClassifier-y2MFm9FQ/lib/python3.8/site-packages/neo4j/_async_compat/network/_bolt_socket.py:447\u001B[0m, in \u001B[0;36mBoltSocket._wait_for_io\u001B[0;34m(self, func, *args, **kwargs)\u001B[0m\n\u001B[1;32m    445\u001B[0m \u001B[38;5;28;01mdef\u001B[39;00m \u001B[38;5;21m_wait_for_io\u001B[39m(\u001B[38;5;28mself\u001B[39m, func, \u001B[38;5;241m*\u001B[39margs, \u001B[38;5;241m*\u001B[39m\u001B[38;5;241m*\u001B[39mkwargs):\n\u001B[1;32m    446\u001B[0m     \u001B[38;5;28;01mif\u001B[39;00m \u001B[38;5;28mself\u001B[39m\u001B[38;5;241m.\u001B[39m_deadline \u001B[38;5;129;01mis\u001B[39;00m \u001B[38;5;28;01mNone\u001B[39;00m:\n\u001B[0;32m--> 447\u001B[0m         \u001B[38;5;28;01mreturn\u001B[39;00m \u001B[43mfunc\u001B[49m\u001B[43m(\u001B[49m\u001B[38;5;241;43m*\u001B[39;49m\u001B[43margs\u001B[49m\u001B[43m,\u001B[49m\u001B[43m \u001B[49m\u001B[38;5;241;43m*\u001B[39;49m\u001B[38;5;241;43m*\u001B[39;49m\u001B[43mkwargs\u001B[49m\u001B[43m)\u001B[49m\n\u001B[1;32m    448\u001B[0m     timeout \u001B[38;5;241m=\u001B[39m \u001B[38;5;28mself\u001B[39m\u001B[38;5;241m.\u001B[39m_socket\u001B[38;5;241m.\u001B[39mgettimeout()\n\u001B[1;32m    449\u001B[0m     deadline_timeout \u001B[38;5;241m=\u001B[39m \u001B[38;5;28mself\u001B[39m\u001B[38;5;241m.\u001B[39m_deadline\u001B[38;5;241m.\u001B[39mto_timeout()\n",
      "\u001B[0;31mKeyboardInterrupt\u001B[0m: "
     ]
    }
   ],
   "source": [
    "#Add case nodes to database\n",
    "count = 0\n",
    "total = len(df)\n",
    "print(\"Total :\", len(df))\n",
    "print(\"CREATING GRAPH: \")\n",
    "printProgressBar(0, total, prefix='Progress:', suffix='Complete', length=total)\n",
    "\n",
    "with driver.session() as session:\n",
    "\n",
    "    for index, row in df.iterrows():\n",
    "\n",
    "        doc = row['doc']\n",
    "        tid = row['tid']\n",
    "        annotation_id = row['id']\n",
    "        title = row['title']\n",
    "\n",
    "        if session.run(\n",
    "        \"MATCH (n:Case {name: $name, case_id: $case_id}) RETURN n\",\n",
    "         name=title, case_id=tid).single() is None:\n",
    "\n",
    "            #Creating case nodes\n",
    "            a = session.run(\"CREATE (n:Case {name: $name, case_id: $case_id, document: $document, annotation_id: $annotation_id})\", name=title, case_id=tid, document=doc, annotation_id=annotation_id)\n",
    "\n",
    "        annotations = pd.DataFrame(row['annotations'])\n",
    "\n",
    "        for index_annotations, row_annotations in annotations.iterrows():\n",
    "\n",
    "            text_id = row_annotations['id']\n",
    "            text = row_annotations['text']\n",
    "\n",
    "            entities = pd.DataFrame(row_annotations['entities'])\n",
    "            if len(entities) != 0:\n",
    "\n",
    "                #checking if sub-text nodes exist\n",
    "                if session.run(\n",
    "                    \"MATCH (n:SubText {name: $text, text_id: $text_id, case_annotation_id: $case_annotation_id}) RETURN n\",\n",
    "                    text=text, text_id=text_id, case_annotation_id=annotation_id).single() is None:\n",
    "\n",
    "                    #Creating case sub-text nodes\n",
    "                    session.run(\"CREATE (n:SubText {name: $text, text_id: $text_id, case_annotation_id: $case_annotation_id})\",\n",
    "                                text=text, text_id=text_id, case_annotation_id=annotation_id)\n",
    "\n",
    "                    #Connecting sub-text nodes to case nodes\n",
    "                    session.run(\"MATCH (a:SubText),(b:Case) \"\n",
    "                                \"WHERE a.case_annotation_id = $case_annotation_id \"\n",
    "                                \"AND b.annotation_id = $case_annotation_id \"\n",
    "                                \"AND a.text_id = $text_id \"\n",
    "                                \"MERGE (a)-[ r:SUBTEXT_OF {relationship: $relationship}]->(b)\",\n",
    "                                case_annotation_id=annotation_id,\n",
    "                                relationship=\"Sub-Text with ID: \" + str(text_id) + \", of case with ID \" + str(tid), text_id=text_id)\n",
    "\n",
    "                #TODO: Create node for entities and connect them to all sentences, matching entities of anything above 0.6 should be connected to all ndoes\n",
    "                for index_entities, row_entities in entities.iterrows():\n",
    "\n",
    "                    normalized_name = row_entities['normalized_name']\n",
    "                    labels = row_entities['labels']\n",
    "\n",
    "                    for label in labels:\n",
    "                        if session.run(\"MATCH (n:Entity {type: $type})\"\n",
    "                                       \"WHERE apoc.text.levenshteinSimilarity(toLower($name), toLower(n.name)) > 0.6 \"\n",
    "                                       \"RETURN n\", name=normalized_name,\n",
    "                       type=label) is None:\n",
    "\n",
    "                            session.run(\"CREATE (n:Entity {name: $name, type: $type, parent_id: $parent_id})\",\n",
    "                                        name=normalized_name, type=label, parent_id=[text_id])\n",
    "\n",
    "                        else:\n",
    "                            session.run(\"MATCH (n:Entity {type: $type})\"\n",
    "                                        \"WHERE apoc.text.levenshteinSimilarity(toLower($name), toLower(n.name)) > 0.6 \"\n",
    "                                        \"SET n.parent_id = apoc.coll.union(\"\n",
    "                                        \"n.parent_id, $parent_id)\",\n",
    "                                        name=normalized_name, type=label, parent_id=[text_id])\n",
    "\n",
    "\n",
    "                        relationship = \"Normalized Name found in subtext: \" + str(text_id) + \", of case with ID \" + str(tid)\n",
    "\n",
    "                        session.run(\"MATCH (a:Entity {type: $type}),\"\n",
    "                                    \"(b:SubText {text_id: $parent_id, case_annotation_id: $case_annotation_id}) \"\n",
    "                                    \"WHERE $parent_id IN a.parent_id  \"\n",
    "                                    \"MERGE (a)-[ r:\" + label + \"_OF\" + \" {relationship: $relationship}]->(b)\",\n",
    "                                    parent_id=text_id,\n",
    "                                    type=label,\n",
    "                                    case_annotation_id=annotation_id,\n",
    "                                    relationship=relationship,\n",
    "                                    label=label)\n",
    "\n",
    "        count = count + 1\n",
    "        printProgressBar(count, total, prefix='Progress:', suffix='Complete', length=total)"
   ],
   "metadata": {
    "collapsed": false,
    "pycharm": {
     "name": "#%%\n"
    }
   }
  },
  {
   "cell_type": "code",
   "execution_count": null,
   "outputs": [],
   "source": [],
   "metadata": {
    "collapsed": false,
    "pycharm": {
     "name": "#%%\n"
    }
   }
  }
 ],
 "metadata": {
  "kernelspec": {
   "display_name": "Python 3",
   "language": "python",
   "name": "python3"
  },
  "language_info": {
   "codemirror_mode": {
    "name": "ipython",
    "version": 2
   },
   "file_extension": ".py",
   "mimetype": "text/x-python",
   "name": "python",
   "nbconvert_exporter": "python",
   "pygments_lexer": "ipython2",
   "version": "2.7.6"
  }
 },
 "nbformat": 4,
 "nbformat_minor": 0
}