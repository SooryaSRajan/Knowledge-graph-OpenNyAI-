{
 "cells": [
  {
   "cell_type": "code",
   "execution_count": 1,
   "metadata": {
    "collapsed": true
   },
   "outputs": [],
   "source": [
    "import json\n",
    "from neo4j import GraphDatabase\n",
    "import pandas as pd"
   ]
  },
  {
   "cell_type": "code",
   "execution_count": 2,
   "outputs": [],
   "source": [
    "#Load dataset\n",
    "with open('annotated-data.json', 'r') as file:\n",
    "    data = json.load(file)"
   ],
   "metadata": {
    "collapsed": false,
    "pycharm": {
     "name": "#%%\n"
    }
   }
  },
  {
   "cell_type": "code",
   "execution_count": 29,
   "outputs": [],
   "source": [
    "#Use for global database connection\n",
    "driver = GraphDatabase.driver(uri=\"bolt://3.91.134.249:7687\", auth=(\"neo4j\", \"escapes-certification-array\"))"
   ],
   "metadata": {
    "collapsed": false,
    "pycharm": {
     "name": "#%%\n"
    }
   }
  },
  {
   "cell_type": "code",
   "execution_count": 3,
   "outputs": [],
   "source": [
    "#use for local database connection\n",
    "driver = GraphDatabase.driver(uri=\"bolt://localhost:7687\", auth=(\"neo4j\", \"password\"))"
   ],
   "metadata": {
    "collapsed": false,
    "pycharm": {
     "name": "#%%\n"
    }
   }
  },
  {
   "cell_type": "code",
   "execution_count": 4,
   "outputs": [],
   "source": [
    "#Convert JSON to DataFrame\n",
    "df = pd.DataFrame(data)"
   ],
   "metadata": {
    "collapsed": false,
    "pycharm": {
     "name": "#%%\n"
    }
   }
  },
  {
   "cell_type": "markdown",
   "source": [],
   "metadata": {
    "collapsed": false
   }
  },
  {
   "cell_type": "code",
   "execution_count": 12,
   "outputs": [
    {
     "data": {
      "text/plain": "                                                    id  \\\n0    9773679d174baecd8dea3a3d04ad2eb06f8d66b68cd9a6...   \n1    f97f6956004592a7f9b987c414c7180db06015860cf377...   \n2    fa839ebdad024476ac233e42e9bbe0c377c27f4031f1dd...   \n3    f242dda5ce530398b22e510ebeca07ef331e5f95313b08...   \n4    28331be12dc40bfb74b59f77ba1b30059703cdf546e918...   \n..                                                 ...   \n328  80f1e360d5e2442e74a7ca96962cc14799070a2dc91bd5...   \n329  ab377c9809b20910230057a7902cefd1e017416f66584d...   \n330  fc71c49e54b831d945dd59161f290f398144fb4f50bc89...   \n331  f152ce410cb653bb95aab27d589511083a032136198250...   \n332  a49e4419ee06b9097a820618f77835c5183c482fb3460b...   \n\n                                                  data  \\\n0    {'text': 'R.V.Raveendran, J.       The claiman...   \n1    {'text': 'J U D G M E N T       W I T HSLP (C)...   \n2    {'text': 'J U D G M E N T  P.K. BALASUBRAMANYA...   \n3    {'text': 'L.....I.........T.......T.......T......   \n4    {'text': '    R.M. Lodha,J.            A two-J...   \n..                                                 ...   \n328  {'text': 'Judgment Varghese Kalliath, J.1. Thi...   \n329  {'text': 'Judgment  B.S. Kapadia, J.1. The pre...   \n330  {'text': 'Judgment  K.M. Jatarajan, J.1. These...   \n331  {'text': 'Judgment  A.M. Ahkadi, J.  1. Mr. H....   \n332  {'text': 'Judgment     Bopanna, J.  1.  This a...   \n\n                                           annotations       tid  \\\n0    [{'id': '76b3f31eb53c4fa08ba719e2aac15329', 's...    837924   \n1    [{'id': 'dbc821fbf4e7444f95ad02fac5cd9828', 's...   1827019   \n2    [{'id': 'daf47aad24f44ed0828f96a88442b463', 's...   1964308   \n3    [{'id': 'd46f0be64a014504b6ebb28515f7eeb6', 's...    484625   \n4    [{'id': 'b1b630bb34334ddcbe8c364f0252041c', 's...  86908489   \n..                                                 ...       ...   \n328  [{'id': '6cbb13dbb7f84912968596510710193f', 's...    125801   \n329  [{'id': '1da1f4643bdc46489a9a2177934aebf0', 's...    437556   \n330  [{'id': 'a5e2bf151b7641689539bcb23fbe3b6d', 's...    791009   \n331  [{'id': 'ef3726f11cf94394a184ed24e8f1530a', 's...    934048   \n332  [{'id': '2dee58286a944c228283abe9c9553752', 's...   1150997   \n\n                                                 title  \\\n0    Sarla Verma & Ors vs Delhi Transport Corp.& An...   \n1    National Insurance Co. Ltd vs Swaran Singh & O...   \n2    The Oriental Insurance Company ... vs Meena Va...   \n3    Smt. Kaushnuma Begum And Ors vs The New India ...   \n4    Reshma Kumari & Ors vs Madan Mohan & Anr on 2 ...   \n..                                                 ...   \n328  Motor And General Finance (India) ... vs Mary ...   \n329  Manohar Jamatmal Sindhi And Anr. vs Ranguba An...   \n330  Principal, Tamil Nadu ... vs A. Saraswathi And...   \n331  Prataprai Arjandas Dhameja And ... vs Bhupatsi...   \n332  The General Manager, Karnataka ... vs Peerappa...   \n\n                                                   doc  \n0    R.V.RAVEENDRAN, J.      The claimants in a mot...  \n1    J U D G M E N T      W I T HSLP (C) 10017/03, ...  \n2    J U D G M E N T P.K. BALASUBRAMANYAN, J.1.One ...  \n3    L.....I.........T.......T.......T.......T........  \n4        R.M. LODHA,J.            A two-Judge Bench...  \n..                                                 ...  \n328  JUDGMENT Varghese Kalliath, J.1. This is a phe...  \n329  JUDGMENT B.S. Kapadia, J.1. The present appeal...  \n330  JUDGMENT K.M. Jatarajan, J.1. These three civi...  \n331  JUDGMENT A.M. Ahkadi, J.  1. Mr. H. P. Shroff ...  \n332  JUDGMENT    Bopanna, J.  1.  This appeal arise...  \n\n[333 rows x 6 columns]",
      "text/html": "<div>\n<style scoped>\n    .dataframe tbody tr th:only-of-type {\n        vertical-align: middle;\n    }\n\n    .dataframe tbody tr th {\n        vertical-align: top;\n    }\n\n    .dataframe thead th {\n        text-align: right;\n    }\n</style>\n<table border=\"1\" class=\"dataframe\">\n  <thead>\n    <tr style=\"text-align: right;\">\n      <th></th>\n      <th>id</th>\n      <th>data</th>\n      <th>annotations</th>\n      <th>tid</th>\n      <th>title</th>\n      <th>doc</th>\n    </tr>\n  </thead>\n  <tbody>\n    <tr>\n      <th>0</th>\n      <td>9773679d174baecd8dea3a3d04ad2eb06f8d66b68cd9a6...</td>\n      <td>{'text': 'R.V.Raveendran, J.       The claiman...</td>\n      <td>[{'id': '76b3f31eb53c4fa08ba719e2aac15329', 's...</td>\n      <td>837924</td>\n      <td>Sarla Verma &amp; Ors vs Delhi Transport Corp.&amp; An...</td>\n      <td>R.V.RAVEENDRAN, J.      The claimants in a mot...</td>\n    </tr>\n    <tr>\n      <th>1</th>\n      <td>f97f6956004592a7f9b987c414c7180db06015860cf377...</td>\n      <td>{'text': 'J U D G M E N T       W I T HSLP (C)...</td>\n      <td>[{'id': 'dbc821fbf4e7444f95ad02fac5cd9828', 's...</td>\n      <td>1827019</td>\n      <td>National Insurance Co. Ltd vs Swaran Singh &amp; O...</td>\n      <td>J U D G M E N T      W I T HSLP (C) 10017/03, ...</td>\n    </tr>\n    <tr>\n      <th>2</th>\n      <td>fa839ebdad024476ac233e42e9bbe0c377c27f4031f1dd...</td>\n      <td>{'text': 'J U D G M E N T  P.K. BALASUBRAMANYA...</td>\n      <td>[{'id': 'daf47aad24f44ed0828f96a88442b463', 's...</td>\n      <td>1964308</td>\n      <td>The Oriental Insurance Company ... vs Meena Va...</td>\n      <td>J U D G M E N T P.K. BALASUBRAMANYAN, J.1.One ...</td>\n    </tr>\n    <tr>\n      <th>3</th>\n      <td>f242dda5ce530398b22e510ebeca07ef331e5f95313b08...</td>\n      <td>{'text': 'L.....I.........T.......T.......T......</td>\n      <td>[{'id': 'd46f0be64a014504b6ebb28515f7eeb6', 's...</td>\n      <td>484625</td>\n      <td>Smt. Kaushnuma Begum And Ors vs The New India ...</td>\n      <td>L.....I.........T.......T.......T.......T........</td>\n    </tr>\n    <tr>\n      <th>4</th>\n      <td>28331be12dc40bfb74b59f77ba1b30059703cdf546e918...</td>\n      <td>{'text': '    R.M. Lodha,J.            A two-J...</td>\n      <td>[{'id': 'b1b630bb34334ddcbe8c364f0252041c', 's...</td>\n      <td>86908489</td>\n      <td>Reshma Kumari &amp; Ors vs Madan Mohan &amp; Anr on 2 ...</td>\n      <td>R.M. LODHA,J.            A two-Judge Bench...</td>\n    </tr>\n    <tr>\n      <th>...</th>\n      <td>...</td>\n      <td>...</td>\n      <td>...</td>\n      <td>...</td>\n      <td>...</td>\n      <td>...</td>\n    </tr>\n    <tr>\n      <th>328</th>\n      <td>80f1e360d5e2442e74a7ca96962cc14799070a2dc91bd5...</td>\n      <td>{'text': 'Judgment Varghese Kalliath, J.1. Thi...</td>\n      <td>[{'id': '6cbb13dbb7f84912968596510710193f', 's...</td>\n      <td>125801</td>\n      <td>Motor And General Finance (India) ... vs Mary ...</td>\n      <td>JUDGMENT Varghese Kalliath, J.1. This is a phe...</td>\n    </tr>\n    <tr>\n      <th>329</th>\n      <td>ab377c9809b20910230057a7902cefd1e017416f66584d...</td>\n      <td>{'text': 'Judgment  B.S. Kapadia, J.1. The pre...</td>\n      <td>[{'id': '1da1f4643bdc46489a9a2177934aebf0', 's...</td>\n      <td>437556</td>\n      <td>Manohar Jamatmal Sindhi And Anr. vs Ranguba An...</td>\n      <td>JUDGMENT B.S. Kapadia, J.1. The present appeal...</td>\n    </tr>\n    <tr>\n      <th>330</th>\n      <td>fc71c49e54b831d945dd59161f290f398144fb4f50bc89...</td>\n      <td>{'text': 'Judgment  K.M. Jatarajan, J.1. These...</td>\n      <td>[{'id': 'a5e2bf151b7641689539bcb23fbe3b6d', 's...</td>\n      <td>791009</td>\n      <td>Principal, Tamil Nadu ... vs A. Saraswathi And...</td>\n      <td>JUDGMENT K.M. Jatarajan, J.1. These three civi...</td>\n    </tr>\n    <tr>\n      <th>331</th>\n      <td>f152ce410cb653bb95aab27d589511083a032136198250...</td>\n      <td>{'text': 'Judgment  A.M. Ahkadi, J.  1. Mr. H....</td>\n      <td>[{'id': 'ef3726f11cf94394a184ed24e8f1530a', 's...</td>\n      <td>934048</td>\n      <td>Prataprai Arjandas Dhameja And ... vs Bhupatsi...</td>\n      <td>JUDGMENT A.M. Ahkadi, J.  1. Mr. H. P. Shroff ...</td>\n    </tr>\n    <tr>\n      <th>332</th>\n      <td>a49e4419ee06b9097a820618f77835c5183c482fb3460b...</td>\n      <td>{'text': 'Judgment     Bopanna, J.  1.  This a...</td>\n      <td>[{'id': '2dee58286a944c228283abe9c9553752', 's...</td>\n      <td>1150997</td>\n      <td>The General Manager, Karnataka ... vs Peerappa...</td>\n      <td>JUDGMENT    Bopanna, J.  1.  This appeal arise...</td>\n    </tr>\n  </tbody>\n</table>\n<p>333 rows × 6 columns</p>\n</div>"
     },
     "execution_count": 12,
     "metadata": {},
     "output_type": "execute_result"
    }
   ],
   "source": [
    "df"
   ],
   "metadata": {
    "collapsed": false,
    "pycharm": {
     "name": "#%%\n"
    }
   }
  },
  {
   "cell_type": "code",
   "execution_count": 6,
   "outputs": [
    {
     "data": {
      "text/plain": "Index(['id', 'data', 'annotations', 'tid', 'title', 'doc'], dtype='object')"
     },
     "execution_count": 6,
     "metadata": {},
     "output_type": "execute_result"
    }
   ],
   "source": [
    "df.columns"
   ],
   "metadata": {
    "collapsed": false,
    "pycharm": {
     "name": "#%%\n"
    }
   }
  },
  {
   "cell_type": "code",
   "execution_count": 13,
   "outputs": [],
   "source": [
    "#Method to print iterations progress\n",
    "def printProgressBar (iteration, total, prefix = '', suffix = '', decimals = 1, length = 100, fill = '█', printEnd = \"\\r\"):\n",
    "    \"\"\"\n",
    "    Call in a loop to create terminal progress bar\n",
    "    @params:\n",
    "        iteration   - Required  : current iteration (Int)\n",
    "        total       - Required  : total iterations (Int)\n",
    "        prefix      - Optional  : prefix string (Str)\n",
    "        suffix      - Optional  : suffix string (Str)\n",
    "        decimals    - Optional  : positive number of decimals in percent complete (Int\n",
    "        length      - Optional  : character length of bar (Int)\n",
    "        fill        - Optional  : bar fill character (Str)\n",
    "        printEnd    - Optional  : end character (e.g. \"\\r\", \"\\r\\n\") (Str)\n",
    "    \"\"\"\n",
    "    percent = (\"{0:.\" + str(decimals) + \"f}\").format(100 * (iteration / float(total)))\n",
    "    filledLength = int(length * iteration // total)\n",
    "    bar = fill * filledLength + '-' * (length - filledLength)\n",
    "    print(f'\\r{prefix} |{bar}| {percent}% {suffix}', end = printEnd)\n",
    "    # Print New Line on Complete\n",
    "    if iteration == total:\n",
    "        print()"
   ],
   "metadata": {
    "collapsed": false,
    "pycharm": {
     "name": "#%%\n"
    }
   }
  },
  {
   "cell_type": "code",
   "execution_count": null,
   "outputs": [],
   "source": [
    "with driver.session() as session:\n",
    "    session.run(\"MATCH (n) DETACH DELETE n\")"
   ],
   "metadata": {
    "collapsed": false,
    "pycharm": {
     "name": "#%%\n",
     "is_executing": true
    }
   }
  },
  {
   "cell_type": "code",
   "execution_count": null,
   "outputs": [],
   "source": [
    "#Add case nodes to database\n",
    "count = 0\n",
    "total = len(df)\n",
    "print(\"Total :\", len(df))\n",
    "print(\"CREATING GRAPH: \")\n",
    "printProgressBar(0, total, prefix='Progress:', suffix='Complete', length=total)\n",
    "\n",
    "with driver.session() as session:\n",
    "\n",
    "    for index, row in df.iterrows():\n",
    "\n",
    "        doc = row['doc']\n",
    "        tid = row['tid']\n",
    "        annotation_id = row['id']\n",
    "        title = row['title']\n",
    "\n",
    "        if session.run(\n",
    "        \"MATCH (n:Case {name: $name, case_id: $case_id}) RETURN n\",\n",
    "         name=title, case_id=tid).single() is None:\n",
    "\n",
    "            #Creating case nodes\n",
    "            a = session.run(\"CREATE (n:Case {name: $name, case_id: $case_id, document: $document, annotation_id: $annotation_id})\", name=title, case_id=tid, document=doc, annotation_id=annotation_id)\n",
    "\n",
    "        annotations = pd.DataFrame(row['annotations'])\n",
    "\n",
    "        for index_annotations, row_annotations in annotations.iterrows():\n",
    "\n",
    "            text_id = row_annotations['id']\n",
    "            text = row_annotations['text']\n",
    "\n",
    "            entities = pd.DataFrame(row_annotations['entities'])\n",
    "            if len(entities) != 0:\n",
    "\n",
    "                #checking if sub-text nodes exist\n",
    "                if session.run(\n",
    "                    \"MATCH (n:SubText {name: $text, text_id: $text_id, case_annotation_id: $case_annotation_id}) RETURN n\",\n",
    "                    text=text, text_id=text_id, case_annotation_id=annotation_id).single() is None:\n",
    "\n",
    "                    #Creating case sub-text nodes\n",
    "                    session.run(\"CREATE (n:SubText {name: $text, text_id: $text_id, case_annotation_id: $case_annotation_id})\",\n",
    "                                text=text, text_id=text_id, case_annotation_id=annotation_id)\n",
    "\n",
    "                    #Connecting sub-text nodes to case nodes\n",
    "                    session.run(\"MATCH (a:SubText),(b:Case) \"\n",
    "                                \"WHERE a.case_annotation_id = $case_annotation_id \"\n",
    "                                \"AND b.annotation_id = $case_annotation_id \"\n",
    "                                \"AND a.text_id = $text_id \"\n",
    "                                \"MERGE (a)-[ r:SUBTEXT_OF {relationship: $relationship}]->(b)\",\n",
    "                                case_annotation_id=annotation_id,\n",
    "                                relationship=\"Sub-Text with ID: \" + str(text_id) + \", of case with ID \" + str(tid), text_id=text_id)\n",
    "\n",
    "                    #TODO: Create node for entities and connect them to all sentences, matching entities of anything above 0.6 should be connected to all ndoes\n",
    "\n",
    "                    for index_entities, row_entities in entities.iterrows():\n",
    "\n",
    "                        normalized_name = row_entities['normalized_name']\n",
    "                        labels = row_entities['labels']\n",
    "\n",
    "                        for label in labels:\n",
    "                            if session.run(\"MATCH (n:Entity {type: $type})\"\n",
    "                                           \"WHERE apoc.text.levenshteinSimilarity(toLower($name), toLower(n.name)) > 0.7 \"\n",
    "                                           \"RETURN n\", name=normalized_name,\n",
    "                           type=label).single() is None:\n",
    "\n",
    "                                session.run(\"CREATE (n:Entity {name: $name, type: $type, parent_id: $parent_id})\",\n",
    "                                            name=normalized_name, type=label, parent_id=[text_id])\n",
    "\n",
    "                            else:\n",
    "                                session.run(\"MATCH (n:Entity {type: $type})\"\n",
    "                                            \"WHERE apoc.text.levenshteinSimilarity(toLower($name), toLower(n.name)) > 0.7 \"\n",
    "                                            \"SET n.parent_id = apoc.coll.union(\"\n",
    "                                            \"n.parent_id, $parent_id)\",\n",
    "                                            name=normalized_name, type=label, parent_id=[text_id])\n",
    "\n",
    "\n",
    "                            relationship = \"Normalized Name found in subtext: \" + str(text_id) + \", of case with ID \" + str(tid)\n",
    "\n",
    "                            session.run(\"MATCH (a:Entity {type: $type}),\"\n",
    "                                        \"(b:SubText {text_id: $parent_id, case_annotation_id: $case_annotation_id}) \"\n",
    "                                        \"WHERE $parent_id IN a.parent_id  \"\n",
    "                                        \"MERGE (a)-[ r:\" + label + \"_OF\" + \" {relationship: $relationship}]->(b)\",\n",
    "                                        parent_id=text_id,\n",
    "                                        type=label,\n",
    "                                        case_annotation_id=annotation_id,\n",
    "                                        relationship=relationship,\n",
    "                                        label=label)\n",
    "\n",
    "        count = count + 1\n",
    "        printProgressBar(count, total, prefix='Progress:', suffix='Complete', length=total)"
   ],
   "metadata": {
    "collapsed": false,
    "pycharm": {
     "name": "#%%\n",
     "is_executing": true
    }
   }
  },
  {
   "cell_type": "code",
   "execution_count": null,
   "outputs": [],
   "source": [],
   "metadata": {
    "collapsed": false,
    "pycharm": {
     "name": "#%%\n"
    }
   }
  }
 ],
 "metadata": {
  "kernelspec": {
   "display_name": "Python 3",
   "language": "python",
   "name": "python3"
  },
  "language_info": {
   "codemirror_mode": {
    "name": "ipython",
    "version": 2
   },
   "file_extension": ".py",
   "mimetype": "text/x-python",
   "name": "python",
   "nbconvert_exporter": "python",
   "pygments_lexer": "ipython2",
   "version": "2.7.6"
  }
 },
 "nbformat": 4,
 "nbformat_minor": 0
}